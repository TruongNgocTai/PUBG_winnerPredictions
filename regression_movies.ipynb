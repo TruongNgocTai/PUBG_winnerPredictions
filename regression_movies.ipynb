{
 "cells": [
  {
   "cell_type": "code",
   "execution_count": 66,
   "metadata": {},
   "outputs": [],
   "source": [
    "%matplotlib inline\n",
    "from sklearn import datasets, linear_model\n",
    "from sklearn import svm\n",
    "from sklearn.neural_network import MLPRegressor\n",
    "from sklearn.metrics import mean_squared_error\n",
    "import pandas as pd\n",
    "import numpy as np\n",
    "import time\n",
    "import matplotlib.pyplot as plt"
   ]
  },
  {
   "cell_type": "markdown",
   "metadata": {},
   "source": [
    "## Đọc dữ liệu tập huấn luyện và tập validation vào data frame"
   ]
  },
  {
   "cell_type": "code",
   "execution_count": 67,
   "metadata": {
    "scrolled": false
   },
   "outputs": [
    {
     "name": "stdout",
     "output_type": "stream",
     "text": [
      "<class 'pandas.core.frame.DataFrame'>\n",
      "Index: 3250 entries, The Dark Knight Rises to In the Cut\n",
      "Data columns (total 20 columns):\n",
      "language                     3227 non-null object\n",
      "genres                       3246 non-null object\n",
      "num_user_for_reviews         3202 non-null float64\n",
      "num_critic_for_reviews       3200 non-null float64\n",
      "cast_total_facebook_likes    3250 non-null int64\n",
      "color                        3223 non-null object\n",
      "country                      3225 non-null object\n",
      "facenumber_in_poster         3229 non-null float64\n",
      "content_rating               3151 non-null object\n",
      "budget                       3052 non-null float64\n",
      "title_year                   3147 non-null float64\n",
      "duration                     3218 non-null float64\n",
      "num_voted_users              3212 non-null float64\n",
      "imdb_score                   3212 non-null float64\n",
      "aspect_ratio                 3164 non-null float64\n",
      "actor_2_facebook_likes       3226 non-null float64\n",
      "movie_facebook_likes         3250 non-null int64\n",
      "actor_3_facebook_likes       3223 non-null float64\n",
      "director_facebook_likes      3162 non-null float64\n",
      "actor_1_facebook_likes       3238 non-null float64\n",
      "dtypes: float64(13), int64(2), object(5)\n",
      "memory usage: 533.2+ KB\n"
     ]
    },
    {
     "name": "stderr",
     "output_type": "stream",
     "text": [
      "C:\\Users\\HP EliteBook\\Anaconda3\\lib\\site-packages\\ipykernel_launcher.py:1: FutureWarning: from_csv is deprecated. Please use read_csv(...) instead. Note that some of the default arguments are different, so please refer to the documentation for from_csv when changing your function calls\n",
      "  \"\"\"Entry point for launching an IPython kernel.\n"
     ]
    },
    {
     "data": {
      "text/html": [
       "<div>\n",
       "<style scoped>\n",
       "    .dataframe tbody tr th:only-of-type {\n",
       "        vertical-align: middle;\n",
       "    }\n",
       "\n",
       "    .dataframe tbody tr th {\n",
       "        vertical-align: top;\n",
       "    }\n",
       "\n",
       "    .dataframe thead th {\n",
       "        text-align: right;\n",
       "    }\n",
       "</style>\n",
       "<table border=\"1\" class=\"dataframe\">\n",
       "  <thead>\n",
       "    <tr style=\"text-align: right;\">\n",
       "      <th></th>\n",
       "      <th>language</th>\n",
       "      <th>genres</th>\n",
       "      <th>num_user_for_reviews</th>\n",
       "      <th>num_critic_for_reviews</th>\n",
       "      <th>cast_total_facebook_likes</th>\n",
       "      <th>color</th>\n",
       "      <th>country</th>\n",
       "      <th>facenumber_in_poster</th>\n",
       "      <th>content_rating</th>\n",
       "      <th>budget</th>\n",
       "      <th>title_year</th>\n",
       "      <th>duration</th>\n",
       "      <th>num_voted_users</th>\n",
       "      <th>imdb_score</th>\n",
       "      <th>aspect_ratio</th>\n",
       "      <th>actor_2_facebook_likes</th>\n",
       "      <th>movie_facebook_likes</th>\n",
       "      <th>actor_3_facebook_likes</th>\n",
       "      <th>director_facebook_likes</th>\n",
       "      <th>actor_1_facebook_likes</th>\n",
       "    </tr>\n",
       "    <tr>\n",
       "      <th>movie_title</th>\n",
       "      <th></th>\n",
       "      <th></th>\n",
       "      <th></th>\n",
       "      <th></th>\n",
       "      <th></th>\n",
       "      <th></th>\n",
       "      <th></th>\n",
       "      <th></th>\n",
       "      <th></th>\n",
       "      <th></th>\n",
       "      <th></th>\n",
       "      <th></th>\n",
       "      <th></th>\n",
       "      <th></th>\n",
       "      <th></th>\n",
       "      <th></th>\n",
       "      <th></th>\n",
       "      <th></th>\n",
       "      <th></th>\n",
       "      <th></th>\n",
       "    </tr>\n",
       "  </thead>\n",
       "  <tbody>\n",
       "    <tr>\n",
       "      <th>The Dark Knight Rises</th>\n",
       "      <td>English</td>\n",
       "      <td>Action|Thriller</td>\n",
       "      <td>2734.0</td>\n",
       "      <td>816.0</td>\n",
       "      <td>128886</td>\n",
       "      <td>Color</td>\n",
       "      <td>UK</td>\n",
       "      <td>0.0</td>\n",
       "      <td>PG-13</td>\n",
       "      <td>250000000.0</td>\n",
       "      <td>2012.0</td>\n",
       "      <td>164.0</td>\n",
       "      <td>1223907.0</td>\n",
       "      <td>8.5</td>\n",
       "      <td>2.35</td>\n",
       "      <td>23000.0</td>\n",
       "      <td>163000</td>\n",
       "      <td>23000.0</td>\n",
       "      <td>22000.0</td>\n",
       "      <td>27000.0</td>\n",
       "    </tr>\n",
       "    <tr>\n",
       "      <th>Pirates of the Caribbean: At World's End</th>\n",
       "      <td>English</td>\n",
       "      <td>Action|Adventure|Fantasy</td>\n",
       "      <td>1249.0</td>\n",
       "      <td>307.0</td>\n",
       "      <td>73135</td>\n",
       "      <td>Color</td>\n",
       "      <td>USA</td>\n",
       "      <td>1.0</td>\n",
       "      <td>PG-13</td>\n",
       "      <td>300000000.0</td>\n",
       "      <td>2007.0</td>\n",
       "      <td>169.0</td>\n",
       "      <td>500631.0</td>\n",
       "      <td>7.1</td>\n",
       "      <td>2.35</td>\n",
       "      <td>7700.0</td>\n",
       "      <td>5300</td>\n",
       "      <td>5000.0</td>\n",
       "      <td>575.0</td>\n",
       "      <td>40000.0</td>\n",
       "    </tr>\n",
       "    <tr>\n",
       "      <th>Avatar</th>\n",
       "      <td>English</td>\n",
       "      <td>Action|Adventure|Fantasy|Sci-Fi</td>\n",
       "      <td>3087.0</td>\n",
       "      <td>722.0</td>\n",
       "      <td>36289</td>\n",
       "      <td>Color</td>\n",
       "      <td>UK</td>\n",
       "      <td>1.0</td>\n",
       "      <td>PG-13</td>\n",
       "      <td>237000000.0</td>\n",
       "      <td>2009.0</td>\n",
       "      <td>162.0</td>\n",
       "      <td>936212.0</td>\n",
       "      <td>7.8</td>\n",
       "      <td>1.78</td>\n",
       "      <td>8200.0</td>\n",
       "      <td>34000</td>\n",
       "      <td>5300.0</td>\n",
       "      <td>7000.0</td>\n",
       "      <td>8500.0</td>\n",
       "    </tr>\n",
       "    <tr>\n",
       "      <th>The Lone Ranger</th>\n",
       "      <td>English</td>\n",
       "      <td>Action|Adventure|Western</td>\n",
       "      <td>723.0</td>\n",
       "      <td>460.0</td>\n",
       "      <td>67106</td>\n",
       "      <td>Color</td>\n",
       "      <td>USA</td>\n",
       "      <td>2.0</td>\n",
       "      <td>PG-13</td>\n",
       "      <td>215000000.0</td>\n",
       "      <td>2013.0</td>\n",
       "      <td>150.0</td>\n",
       "      <td>191086.0</td>\n",
       "      <td>6.5</td>\n",
       "      <td>2.35</td>\n",
       "      <td>7700.0</td>\n",
       "      <td>48000</td>\n",
       "      <td>6000.0</td>\n",
       "      <td>575.0</td>\n",
       "      <td>40000.0</td>\n",
       "    </tr>\n",
       "    <tr>\n",
       "      <th>Spectre</th>\n",
       "      <td>English</td>\n",
       "      <td>Action|Adventure|Thriller</td>\n",
       "      <td>1033.0</td>\n",
       "      <td>633.0</td>\n",
       "      <td>45755</td>\n",
       "      <td>Color</td>\n",
       "      <td>UK</td>\n",
       "      <td>1.0</td>\n",
       "      <td>PG-13</td>\n",
       "      <td>245000000.0</td>\n",
       "      <td>2015.0</td>\n",
       "      <td>148.0</td>\n",
       "      <td>309354.0</td>\n",
       "      <td>6.8</td>\n",
       "      <td>2.35</td>\n",
       "      <td>8700.0</td>\n",
       "      <td>88000</td>\n",
       "      <td>8500.0</td>\n",
       "      <td>2200.0</td>\n",
       "      <td>11000.0</td>\n",
       "    </tr>\n",
       "  </tbody>\n",
       "</table>\n",
       "</div>"
      ],
      "text/plain": [
       "                                         language  \\\n",
       "movie_title                                         \n",
       "The Dark Knight Rises                     English   \n",
       "Pirates of the Caribbean: At World's End  English   \n",
       "Avatar                                    English   \n",
       "The Lone Ranger                           English   \n",
       "Spectre                                   English   \n",
       "\n",
       "                                                                   genres  \\\n",
       "movie_title                                                                 \n",
       "The Dark Knight Rises                                     Action|Thriller   \n",
       "Pirates of the Caribbean: At World's End         Action|Adventure|Fantasy   \n",
       "Avatar                                    Action|Adventure|Fantasy|Sci-Fi   \n",
       "The Lone Ranger                                  Action|Adventure|Western   \n",
       "Spectre                                         Action|Adventure|Thriller   \n",
       "\n",
       "                                          num_user_for_reviews  \\\n",
       "movie_title                                                      \n",
       "The Dark Knight Rises                                   2734.0   \n",
       "Pirates of the Caribbean: At World's End                1249.0   \n",
       "Avatar                                                  3087.0   \n",
       "The Lone Ranger                                          723.0   \n",
       "Spectre                                                 1033.0   \n",
       "\n",
       "                                          num_critic_for_reviews  \\\n",
       "movie_title                                                        \n",
       "The Dark Knight Rises                                      816.0   \n",
       "Pirates of the Caribbean: At World's End                   307.0   \n",
       "Avatar                                                     722.0   \n",
       "The Lone Ranger                                            460.0   \n",
       "Spectre                                                    633.0   \n",
       "\n",
       "                                          cast_total_facebook_likes  color  \\\n",
       "movie_title                                                                  \n",
       "The Dark Knight Rises                                        128886  Color   \n",
       "Pirates of the Caribbean: At World's End                      73135  Color   \n",
       "Avatar                                                        36289  Color   \n",
       "The Lone Ranger                                               67106  Color   \n",
       "Spectre                                                       45755  Color   \n",
       "\n",
       "                                         country  facenumber_in_poster  \\\n",
       "movie_title                                                              \n",
       "The Dark Knight Rises                         UK                   0.0   \n",
       "Pirates of the Caribbean: At World's End     USA                   1.0   \n",
       "Avatar                                        UK                   1.0   \n",
       "The Lone Ranger                              USA                   2.0   \n",
       "Spectre                                       UK                   1.0   \n",
       "\n",
       "                                         content_rating       budget  \\\n",
       "movie_title                                                            \n",
       "The Dark Knight Rises                             PG-13  250000000.0   \n",
       "Pirates of the Caribbean: At World's End          PG-13  300000000.0   \n",
       "Avatar                                            PG-13  237000000.0   \n",
       "The Lone Ranger                                   PG-13  215000000.0   \n",
       "Spectre                                           PG-13  245000000.0   \n",
       "\n",
       "                                          title_year  duration  \\\n",
       "movie_title                                                      \n",
       "The Dark Knight Rises                         2012.0     164.0   \n",
       "Pirates of the Caribbean: At World's End      2007.0     169.0   \n",
       "Avatar                                        2009.0     162.0   \n",
       "The Lone Ranger                               2013.0     150.0   \n",
       "Spectre                                       2015.0     148.0   \n",
       "\n",
       "                                          num_voted_users  imdb_score  \\\n",
       "movie_title                                                             \n",
       "The Dark Knight Rises                           1223907.0         8.5   \n",
       "Pirates of the Caribbean: At World's End         500631.0         7.1   \n",
       "Avatar                                           936212.0         7.8   \n",
       "The Lone Ranger                                  191086.0         6.5   \n",
       "Spectre                                          309354.0         6.8   \n",
       "\n",
       "                                          aspect_ratio  \\\n",
       "movie_title                                              \n",
       "The Dark Knight Rises                             2.35   \n",
       "Pirates of the Caribbean: At World's End          2.35   \n",
       "Avatar                                            1.78   \n",
       "The Lone Ranger                                   2.35   \n",
       "Spectre                                           2.35   \n",
       "\n",
       "                                          actor_2_facebook_likes  \\\n",
       "movie_title                                                        \n",
       "The Dark Knight Rises                                    23000.0   \n",
       "Pirates of the Caribbean: At World's End                  7700.0   \n",
       "Avatar                                                    8200.0   \n",
       "The Lone Ranger                                           7700.0   \n",
       "Spectre                                                   8700.0   \n",
       "\n",
       "                                          movie_facebook_likes  \\\n",
       "movie_title                                                      \n",
       "The Dark Knight Rises                                   163000   \n",
       "Pirates of the Caribbean: At World's End                  5300   \n",
       "Avatar                                                   34000   \n",
       "The Lone Ranger                                          48000   \n",
       "Spectre                                                  88000   \n",
       "\n",
       "                                          actor_3_facebook_likes  \\\n",
       "movie_title                                                        \n",
       "The Dark Knight Rises                                    23000.0   \n",
       "Pirates of the Caribbean: At World's End                  5000.0   \n",
       "Avatar                                                    5300.0   \n",
       "The Lone Ranger                                           6000.0   \n",
       "Spectre                                                   8500.0   \n",
       "\n",
       "                                          director_facebook_likes  \\\n",
       "movie_title                                                         \n",
       "The Dark Knight Rises                                     22000.0   \n",
       "Pirates of the Caribbean: At World's End                    575.0   \n",
       "Avatar                                                     7000.0   \n",
       "The Lone Ranger                                             575.0   \n",
       "Spectre                                                    2200.0   \n",
       "\n",
       "                                          actor_1_facebook_likes  \n",
       "movie_title                                                       \n",
       "The Dark Knight Rises                                    27000.0  \n",
       "Pirates of the Caribbean: At World's End                 40000.0  \n",
       "Avatar                                                    8500.0  \n",
       "The Lone Ranger                                          40000.0  \n",
       "Spectre                                                  11000.0  "
      ]
     },
     "execution_count": 67,
     "metadata": {},
     "output_type": "execute_result"
    }
   ],
   "source": [
    "train_df = pd.DataFrame.from_csv('train.csv')\n",
    "train_df.info()\n",
    "train_df.head()"
   ]
  },
  {
   "cell_type": "code",
   "execution_count": 69,
   "metadata": {},
   "outputs": [
    {
     "name": "stdout",
     "output_type": "stream",
     "text": [
      "<class 'pandas.core.frame.DataFrame'>\n",
      "Index: 1083 entries, Charlie Bartlett to In the Name of the King: The Last Job\n",
      "Data columns (total 20 columns):\n",
      "language                     1074 non-null object\n",
      "genres                       1082 non-null object\n",
      "num_user_for_reviews         1067 non-null float64\n",
      "num_critic_for_reviews       1064 non-null float64\n",
      "cast_total_facebook_likes    1083 non-null int64\n",
      "color                        1074 non-null object\n",
      "country                      1078 non-null object\n",
      "facenumber_in_poster         1076 non-null float64\n",
      "content_rating               1006 non-null object\n",
      "budget                       925 non-null float64\n",
      "title_year                   1050 non-null float64\n",
      "duration                     1073 non-null float64\n",
      "num_voted_users              1074 non-null float64\n",
      "imdb_score                   1074 non-null float64\n",
      "aspect_ratio                 1003 non-null float64\n",
      "actor_2_facebook_likes       1081 non-null float64\n",
      "movie_facebook_likes         1083 non-null int64\n",
      "actor_3_facebook_likes       1077 non-null float64\n",
      "director_facebook_likes      1051 non-null float64\n",
      "actor_1_facebook_likes       1082 non-null float64\n",
      "dtypes: float64(13), int64(2), object(5)\n",
      "memory usage: 177.7+ KB\n"
     ]
    },
    {
     "data": {
      "text/html": [
       "<div>\n",
       "<style scoped>\n",
       "    .dataframe tbody tr th:only-of-type {\n",
       "        vertical-align: middle;\n",
       "    }\n",
       "\n",
       "    .dataframe tbody tr th {\n",
       "        vertical-align: top;\n",
       "    }\n",
       "\n",
       "    .dataframe thead th {\n",
       "        text-align: right;\n",
       "    }\n",
       "</style>\n",
       "<table border=\"1\" class=\"dataframe\">\n",
       "  <thead>\n",
       "    <tr style=\"text-align: right;\">\n",
       "      <th></th>\n",
       "      <th>language</th>\n",
       "      <th>genres</th>\n",
       "      <th>num_user_for_reviews</th>\n",
       "      <th>num_critic_for_reviews</th>\n",
       "      <th>cast_total_facebook_likes</th>\n",
       "      <th>color</th>\n",
       "      <th>country</th>\n",
       "      <th>facenumber_in_poster</th>\n",
       "      <th>content_rating</th>\n",
       "      <th>budget</th>\n",
       "      <th>title_year</th>\n",
       "      <th>duration</th>\n",
       "      <th>num_voted_users</th>\n",
       "      <th>imdb_score</th>\n",
       "      <th>aspect_ratio</th>\n",
       "      <th>actor_2_facebook_likes</th>\n",
       "      <th>movie_facebook_likes</th>\n",
       "      <th>actor_3_facebook_likes</th>\n",
       "      <th>director_facebook_likes</th>\n",
       "      <th>actor_1_facebook_likes</th>\n",
       "    </tr>\n",
       "    <tr>\n",
       "      <th>movie_title</th>\n",
       "      <th></th>\n",
       "      <th></th>\n",
       "      <th></th>\n",
       "      <th></th>\n",
       "      <th></th>\n",
       "      <th></th>\n",
       "      <th></th>\n",
       "      <th></th>\n",
       "      <th></th>\n",
       "      <th></th>\n",
       "      <th></th>\n",
       "      <th></th>\n",
       "      <th></th>\n",
       "      <th></th>\n",
       "      <th></th>\n",
       "      <th></th>\n",
       "      <th></th>\n",
       "      <th></th>\n",
       "      <th></th>\n",
       "      <th></th>\n",
       "    </tr>\n",
       "  </thead>\n",
       "  <tbody>\n",
       "    <tr>\n",
       "      <th>Charlie Bartlett</th>\n",
       "      <td>English</td>\n",
       "      <td>Comedy|Drama|Romance</td>\n",
       "      <td>124.0</td>\n",
       "      <td>147.0</td>\n",
       "      <td>34163</td>\n",
       "      <td>Color</td>\n",
       "      <td>USA</td>\n",
       "      <td>5.0</td>\n",
       "      <td>R</td>\n",
       "      <td>1.200000e+07</td>\n",
       "      <td>2007.0</td>\n",
       "      <td>97.0</td>\n",
       "      <td>58114.0</td>\n",
       "      <td>7.0</td>\n",
       "      <td>1.85</td>\n",
       "      <td>6100.0</td>\n",
       "      <td>3700</td>\n",
       "      <td>5400.0</td>\n",
       "      <td>20.0</td>\n",
       "      <td>21000.0</td>\n",
       "    </tr>\n",
       "    <tr>\n",
       "      <th>Two Lovers</th>\n",
       "      <td>English</td>\n",
       "      <td>Drama|Romance</td>\n",
       "      <td>99.0</td>\n",
       "      <td>190.0</td>\n",
       "      <td>10179</td>\n",
       "      <td>Color</td>\n",
       "      <td>USA</td>\n",
       "      <td>0.0</td>\n",
       "      <td>R</td>\n",
       "      <td>1.200000e+07</td>\n",
       "      <td>2008.0</td>\n",
       "      <td>110.0</td>\n",
       "      <td>30904.0</td>\n",
       "      <td>7.1</td>\n",
       "      <td>2.35</td>\n",
       "      <td>4200.0</td>\n",
       "      <td>2900</td>\n",
       "      <td>831.0</td>\n",
       "      <td>122.0</td>\n",
       "      <td>4400.0</td>\n",
       "    </tr>\n",
       "    <tr>\n",
       "      <th>The Great Beauty</th>\n",
       "      <td>Italian</td>\n",
       "      <td>Drama</td>\n",
       "      <td>128.0</td>\n",
       "      <td>284.0</td>\n",
       "      <td>467</td>\n",
       "      <td>Color</td>\n",
       "      <td>Italy</td>\n",
       "      <td>2.0</td>\n",
       "      <td>Not Rated</td>\n",
       "      <td>9.200000e+06</td>\n",
       "      <td>2013.0</td>\n",
       "      <td>141.0</td>\n",
       "      <td>61483.0</td>\n",
       "      <td>7.7</td>\n",
       "      <td>2.35</td>\n",
       "      <td>102.0</td>\n",
       "      <td>30000</td>\n",
       "      <td>71.0</td>\n",
       "      <td>708.0</td>\n",
       "      <td>211.0</td>\n",
       "    </tr>\n",
       "    <tr>\n",
       "      <th>Last Orders</th>\n",
       "      <td>English</td>\n",
       "      <td>Drama</td>\n",
       "      <td>99.0</td>\n",
       "      <td>60.0</td>\n",
       "      <td>17548</td>\n",
       "      <td>Color</td>\n",
       "      <td>UK</td>\n",
       "      <td>5.0</td>\n",
       "      <td>R</td>\n",
       "      <td>1.200000e+07</td>\n",
       "      <td>2001.0</td>\n",
       "      <td>109.0</td>\n",
       "      <td>5161.0</td>\n",
       "      <td>7.0</td>\n",
       "      <td>2.35</td>\n",
       "      <td>5000.0</td>\n",
       "      <td>314</td>\n",
       "      <td>3000.0</td>\n",
       "      <td>43.0</td>\n",
       "      <td>5700.0</td>\n",
       "    </tr>\n",
       "    <tr>\n",
       "      <th>The Host</th>\n",
       "      <td>Korean</td>\n",
       "      <td>Comedy|Drama|Horror|Sci-Fi</td>\n",
       "      <td>282.0</td>\n",
       "      <td>366.0</td>\n",
       "      <td>1218</td>\n",
       "      <td>Color</td>\n",
       "      <td>South Korea</td>\n",
       "      <td>0.0</td>\n",
       "      <td>R</td>\n",
       "      <td>1.221550e+10</td>\n",
       "      <td>2006.0</td>\n",
       "      <td>120.0</td>\n",
       "      <td>73623.0</td>\n",
       "      <td>7.0</td>\n",
       "      <td>1.85</td>\n",
       "      <td>406.0</td>\n",
       "      <td>7500</td>\n",
       "      <td>75.0</td>\n",
       "      <td>597.0</td>\n",
       "      <td>660.0</td>\n",
       "    </tr>\n",
       "  </tbody>\n",
       "</table>\n",
       "</div>"
      ],
      "text/plain": [
       "                 language                      genres  num_user_for_reviews  \\\n",
       "movie_title                                                                   \n",
       "Charlie Bartlett  English        Comedy|Drama|Romance                 124.0   \n",
       "Two Lovers        English               Drama|Romance                  99.0   \n",
       "The Great Beauty  Italian                       Drama                 128.0   \n",
       "Last Orders       English                       Drama                  99.0   \n",
       "The Host           Korean  Comedy|Drama|Horror|Sci-Fi                 282.0   \n",
       "\n",
       "                  num_critic_for_reviews  cast_total_facebook_likes  color  \\\n",
       "movie_title                                                                  \n",
       "Charlie Bartlett                   147.0                      34163  Color   \n",
       "Two Lovers                         190.0                      10179  Color   \n",
       "The Great Beauty                   284.0                        467  Color   \n",
       "Last Orders                         60.0                      17548  Color   \n",
       "The Host                           366.0                       1218  Color   \n",
       "\n",
       "                      country  facenumber_in_poster content_rating  \\\n",
       "movie_title                                                          \n",
       "Charlie Bartlett          USA                   5.0              R   \n",
       "Two Lovers                USA                   0.0              R   \n",
       "The Great Beauty        Italy                   2.0      Not Rated   \n",
       "Last Orders                UK                   5.0              R   \n",
       "The Host          South Korea                   0.0              R   \n",
       "\n",
       "                        budget  title_year  duration  num_voted_users  \\\n",
       "movie_title                                                             \n",
       "Charlie Bartlett  1.200000e+07      2007.0      97.0          58114.0   \n",
       "Two Lovers        1.200000e+07      2008.0     110.0          30904.0   \n",
       "The Great Beauty  9.200000e+06      2013.0     141.0          61483.0   \n",
       "Last Orders       1.200000e+07      2001.0     109.0           5161.0   \n",
       "The Host          1.221550e+10      2006.0     120.0          73623.0   \n",
       "\n",
       "                  imdb_score  aspect_ratio  actor_2_facebook_likes  \\\n",
       "movie_title                                                          \n",
       "Charlie Bartlett         7.0          1.85                  6100.0   \n",
       "Two Lovers               7.1          2.35                  4200.0   \n",
       "The Great Beauty         7.7          2.35                   102.0   \n",
       "Last Orders              7.0          2.35                  5000.0   \n",
       "The Host                 7.0          1.85                   406.0   \n",
       "\n",
       "                  movie_facebook_likes  actor_3_facebook_likes  \\\n",
       "movie_title                                                      \n",
       "Charlie Bartlett                  3700                  5400.0   \n",
       "Two Lovers                        2900                   831.0   \n",
       "The Great Beauty                 30000                    71.0   \n",
       "Last Orders                        314                  3000.0   \n",
       "The Host                          7500                    75.0   \n",
       "\n",
       "                  director_facebook_likes  actor_1_facebook_likes  \n",
       "movie_title                                                        \n",
       "Charlie Bartlett                     20.0                 21000.0  \n",
       "Two Lovers                          122.0                  4400.0  \n",
       "The Great Beauty                    708.0                   211.0  \n",
       "Last Orders                          43.0                  5700.0  \n",
       "The Host                            597.0                   660.0  "
      ]
     },
     "execution_count": 69,
     "metadata": {},
     "output_type": "execute_result"
    }
   ],
   "source": [
    "val_df = pd.read_csv('val.csv', index_col=0)\n",
    "val_df.info()\n",
    "val_df.head()"
   ]
  },
  {
   "cell_type": "code",
   "execution_count": 70,
   "metadata": {},
   "outputs": [
    {
     "name": "stdout",
     "output_type": "stream",
     "text": [
      "<class 'pandas.core.frame.DataFrame'>\n",
      "Index: 1086 entries, Wicked Blood to A Plague So Pleasant\n",
      "Data columns (total 20 columns):\n",
      "language                     1076 non-null object\n",
      "genres                       1084 non-null object\n",
      "num_user_for_reviews         1048 non-null float64\n",
      "num_critic_for_reviews       1024 non-null float64\n",
      "cast_total_facebook_likes    1086 non-null int64\n",
      "color                        1074 non-null object\n",
      "country                      1079 non-null object\n",
      "facenumber_in_poster         1070 non-null float64\n",
      "content_rating               884 non-null object\n",
      "budget                       887 non-null float64\n",
      "title_year                   1060 non-null float64\n",
      "duration                     1069 non-null float64\n",
      "num_voted_users              1062 non-null float64\n",
      "imdb_score                   1062 non-null float64\n",
      "aspect_ratio                 855 non-null float64\n",
      "actor_2_facebook_likes       1068 non-null float64\n",
      "movie_facebook_likes         1086 non-null int64\n",
      "actor_3_facebook_likes       1062 non-null float64\n",
      "director_facebook_likes      1062 non-null float64\n",
      "actor_1_facebook_likes       1072 non-null float64\n",
      "dtypes: float64(13), int64(2), object(5)\n",
      "memory usage: 178.2+ KB\n"
     ]
    },
    {
     "data": {
      "text/html": [
       "<div>\n",
       "<style scoped>\n",
       "    .dataframe tbody tr th:only-of-type {\n",
       "        vertical-align: middle;\n",
       "    }\n",
       "\n",
       "    .dataframe tbody tr th {\n",
       "        vertical-align: top;\n",
       "    }\n",
       "\n",
       "    .dataframe thead th {\n",
       "        text-align: right;\n",
       "    }\n",
       "</style>\n",
       "<table border=\"1\" class=\"dataframe\">\n",
       "  <thead>\n",
       "    <tr style=\"text-align: right;\">\n",
       "      <th></th>\n",
       "      <th>language</th>\n",
       "      <th>genres</th>\n",
       "      <th>num_user_for_reviews</th>\n",
       "      <th>num_critic_for_reviews</th>\n",
       "      <th>cast_total_facebook_likes</th>\n",
       "      <th>color</th>\n",
       "      <th>country</th>\n",
       "      <th>facenumber_in_poster</th>\n",
       "      <th>content_rating</th>\n",
       "      <th>budget</th>\n",
       "      <th>title_year</th>\n",
       "      <th>duration</th>\n",
       "      <th>num_voted_users</th>\n",
       "      <th>imdb_score</th>\n",
       "      <th>aspect_ratio</th>\n",
       "      <th>actor_2_facebook_likes</th>\n",
       "      <th>movie_facebook_likes</th>\n",
       "      <th>actor_3_facebook_likes</th>\n",
       "      <th>director_facebook_likes</th>\n",
       "      <th>actor_1_facebook_likes</th>\n",
       "    </tr>\n",
       "    <tr>\n",
       "      <th>movie_title</th>\n",
       "      <th></th>\n",
       "      <th></th>\n",
       "      <th></th>\n",
       "      <th></th>\n",
       "      <th></th>\n",
       "      <th></th>\n",
       "      <th></th>\n",
       "      <th></th>\n",
       "      <th></th>\n",
       "      <th></th>\n",
       "      <th></th>\n",
       "      <th></th>\n",
       "      <th></th>\n",
       "      <th></th>\n",
       "      <th></th>\n",
       "      <th></th>\n",
       "      <th></th>\n",
       "      <th></th>\n",
       "      <th></th>\n",
       "      <th></th>\n",
       "    </tr>\n",
       "  </thead>\n",
       "  <tbody>\n",
       "    <tr>\n",
       "      <th>Wicked Blood</th>\n",
       "      <td>English</td>\n",
       "      <td>Action|Crime|Drama|Thriller</td>\n",
       "      <td>11.0</td>\n",
       "      <td>7.0</td>\n",
       "      <td>15939</td>\n",
       "      <td>Color</td>\n",
       "      <td>USA</td>\n",
       "      <td>2.0</td>\n",
       "      <td>Not Rated</td>\n",
       "      <td>3500000.0</td>\n",
       "      <td>2014.0</td>\n",
       "      <td>92.0</td>\n",
       "      <td>2085.0</td>\n",
       "      <td>5.4</td>\n",
       "      <td>1.85</td>\n",
       "      <td>3500.0</td>\n",
       "      <td>490</td>\n",
       "      <td>2000.0</td>\n",
       "      <td>14.0</td>\n",
       "      <td>6400.0</td>\n",
       "    </tr>\n",
       "    <tr>\n",
       "      <th>The Tall Man</th>\n",
       "      <td>English</td>\n",
       "      <td>Crime|Drama|Horror|Mystery|Thriller</td>\n",
       "      <td>189.0</td>\n",
       "      <td>174.0</td>\n",
       "      <td>7230</td>\n",
       "      <td>Color</td>\n",
       "      <td>USA</td>\n",
       "      <td>1.0</td>\n",
       "      <td>R</td>\n",
       "      <td>18200000.0</td>\n",
       "      <td>2012.0</td>\n",
       "      <td>106.0</td>\n",
       "      <td>33131.0</td>\n",
       "      <td>5.9</td>\n",
       "      <td>2.35</td>\n",
       "      <td>1800.0</td>\n",
       "      <td>12000</td>\n",
       "      <td>428.0</td>\n",
       "      <td>74.0</td>\n",
       "      <td>4300.0</td>\n",
       "    </tr>\n",
       "    <tr>\n",
       "      <th>Dawn Patrol</th>\n",
       "      <td>English</td>\n",
       "      <td>Drama|Thriller</td>\n",
       "      <td>14.0</td>\n",
       "      <td>9.0</td>\n",
       "      <td>8181</td>\n",
       "      <td>Color</td>\n",
       "      <td>NaN</td>\n",
       "      <td>1.0</td>\n",
       "      <td>NaN</td>\n",
       "      <td>3500000.0</td>\n",
       "      <td>2014.0</td>\n",
       "      <td>88.0</td>\n",
       "      <td>523.0</td>\n",
       "      <td>4.7</td>\n",
       "      <td>2.35</td>\n",
       "      <td>2300.0</td>\n",
       "      <td>584</td>\n",
       "      <td>796.0</td>\n",
       "      <td>20.0</td>\n",
       "      <td>3300.0</td>\n",
       "    </tr>\n",
       "    <tr>\n",
       "      <th>Lords of London</th>\n",
       "      <td>English</td>\n",
       "      <td>Crime|Mystery|Thriller</td>\n",
       "      <td>18.0</td>\n",
       "      <td>3.0</td>\n",
       "      <td>1213</td>\n",
       "      <td>Color</td>\n",
       "      <td>UK</td>\n",
       "      <td>1.0</td>\n",
       "      <td>R</td>\n",
       "      <td>3440000.0</td>\n",
       "      <td>2014.0</td>\n",
       "      <td>90.0</td>\n",
       "      <td>640.0</td>\n",
       "      <td>3.2</td>\n",
       "      <td>2.35</td>\n",
       "      <td>70.0</td>\n",
       "      <td>609</td>\n",
       "      <td>45.0</td>\n",
       "      <td>0.0</td>\n",
       "      <td>1000.0</td>\n",
       "    </tr>\n",
       "    <tr>\n",
       "      <th>Taxman</th>\n",
       "      <td>English</td>\n",
       "      <td>Action|Comedy|Crime|Thriller</td>\n",
       "      <td>20.0</td>\n",
       "      <td>5.0</td>\n",
       "      <td>7169</td>\n",
       "      <td>Color</td>\n",
       "      <td>USA</td>\n",
       "      <td>6.0</td>\n",
       "      <td>R</td>\n",
       "      <td>1000000.0</td>\n",
       "      <td>1998.0</td>\n",
       "      <td>104.0</td>\n",
       "      <td>383.0</td>\n",
       "      <td>5.5</td>\n",
       "      <td>1.37</td>\n",
       "      <td>1200.0</td>\n",
       "      <td>18</td>\n",
       "      <td>965.0</td>\n",
       "      <td>6.0</td>\n",
       "      <td>3500.0</td>\n",
       "    </tr>\n",
       "  </tbody>\n",
       "</table>\n",
       "</div>"
      ],
      "text/plain": [
       "                language                               genres  \\\n",
       "movie_title                                                     \n",
       "Wicked Blood     English          Action|Crime|Drama|Thriller   \n",
       "The Tall Man     English  Crime|Drama|Horror|Mystery|Thriller   \n",
       "Dawn Patrol      English                       Drama|Thriller   \n",
       "Lords of London  English               Crime|Mystery|Thriller   \n",
       "Taxman           English         Action|Comedy|Crime|Thriller   \n",
       "\n",
       "                 num_user_for_reviews  num_critic_for_reviews  \\\n",
       "movie_title                                                     \n",
       "Wicked Blood                     11.0                     7.0   \n",
       "The Tall Man                    189.0                   174.0   \n",
       "Dawn Patrol                      14.0                     9.0   \n",
       "Lords of London                  18.0                     3.0   \n",
       "Taxman                           20.0                     5.0   \n",
       "\n",
       "                 cast_total_facebook_likes  color country  \\\n",
       "movie_title                                                 \n",
       "Wicked Blood                         15939  Color     USA   \n",
       "The Tall Man                          7230  Color     USA   \n",
       "Dawn Patrol                           8181  Color     NaN   \n",
       "Lords of London                       1213  Color      UK   \n",
       "Taxman                                7169  Color     USA   \n",
       "\n",
       "                 facenumber_in_poster content_rating      budget  title_year  \\\n",
       "movie_title                                                                    \n",
       "Wicked Blood                      2.0      Not Rated   3500000.0      2014.0   \n",
       "The Tall Man                      1.0              R  18200000.0      2012.0   \n",
       "Dawn Patrol                       1.0            NaN   3500000.0      2014.0   \n",
       "Lords of London                   1.0              R   3440000.0      2014.0   \n",
       "Taxman                            6.0              R   1000000.0      1998.0   \n",
       "\n",
       "                 duration  num_voted_users  imdb_score  aspect_ratio  \\\n",
       "movie_title                                                            \n",
       "Wicked Blood         92.0           2085.0         5.4          1.85   \n",
       "The Tall Man        106.0          33131.0         5.9          2.35   \n",
       "Dawn Patrol          88.0            523.0         4.7          2.35   \n",
       "Lords of London      90.0            640.0         3.2          2.35   \n",
       "Taxman              104.0            383.0         5.5          1.37   \n",
       "\n",
       "                 actor_2_facebook_likes  movie_facebook_likes  \\\n",
       "movie_title                                                     \n",
       "Wicked Blood                     3500.0                   490   \n",
       "The Tall Man                     1800.0                 12000   \n",
       "Dawn Patrol                      2300.0                   584   \n",
       "Lords of London                    70.0                   609   \n",
       "Taxman                           1200.0                    18   \n",
       "\n",
       "                 actor_3_facebook_likes  director_facebook_likes  \\\n",
       "movie_title                                                        \n",
       "Wicked Blood                     2000.0                     14.0   \n",
       "The Tall Man                      428.0                     74.0   \n",
       "Dawn Patrol                       796.0                     20.0   \n",
       "Lords of London                    45.0                      0.0   \n",
       "Taxman                            965.0                      6.0   \n",
       "\n",
       "                 actor_1_facebook_likes  \n",
       "movie_title                              \n",
       "Wicked Blood                     6400.0  \n",
       "The Tall Man                     4300.0  \n",
       "Dawn Patrol                      3300.0  \n",
       "Lords of London                  1000.0  \n",
       "Taxman                           3500.0  "
      ]
     },
     "execution_count": 70,
     "metadata": {},
     "output_type": "execute_result"
    }
   ],
   "source": [
    "test_df = pd.read_csv('test.csv', index_col=0)\n",
    "test_df.info()\n",
    "test_df.head()"
   ]
  },
  {
   "cell_type": "markdown",
   "metadata": {},
   "source": [
    "## Tiền xử lý"
   ]
  },
  {
   "cell_type": "markdown",
   "metadata": {},
   "source": [
    "**1. Tiền xử lý tập huấn luyện**"
   ]
  },
  {
   "cell_type": "code",
   "execution_count": 71,
   "metadata": {},
   "outputs": [],
   "source": [
    "train_input_df = train_df.iloc[:, 0:]\n",
    "train_output_df = train_df.imdb_score"
   ]
  },
  {
   "cell_type": "markdown",
   "metadata": {},
   "source": [
    "**1.1. Xây dựng `train_X` từ `train_input_df`**"
   ]
  },
  {
   "cell_type": "code",
   "execution_count": 72,
   "metadata": {
    "scrolled": true
   },
   "outputs": [
    {
     "name": "stdout",
     "output_type": "stream",
     "text": [
      "<class 'pandas.core.frame.DataFrame'>\n",
      "Index: 3250 entries, The Dark Knight Rises to In the Cut\n",
      "Data columns (total 11 columns):\n",
      "cast_total_facebook_likes    3250 non-null int64\n",
      "color                        3223 non-null object\n",
      "facenumber_in_poster         3229 non-null float64\n",
      "budget                       3052 non-null float64\n",
      "title_year                   3147 non-null float64\n",
      "duration                     3218 non-null float64\n",
      "actor_2_facebook_likes       3226 non-null float64\n",
      "movie_facebook_likes         3250 non-null int64\n",
      "actor_3_facebook_likes       3223 non-null float64\n",
      "director_facebook_likes      3162 non-null float64\n",
      "actor_1_facebook_likes       3238 non-null float64\n",
      "dtypes: float64(8), int64(2), object(1)\n",
      "memory usage: 304.7+ KB\n"
     ]
    },
    {
     "data": {
      "text/html": [
       "<div>\n",
       "<style scoped>\n",
       "    .dataframe tbody tr th:only-of-type {\n",
       "        vertical-align: middle;\n",
       "    }\n",
       "\n",
       "    .dataframe tbody tr th {\n",
       "        vertical-align: top;\n",
       "    }\n",
       "\n",
       "    .dataframe thead th {\n",
       "        text-align: right;\n",
       "    }\n",
       "</style>\n",
       "<table border=\"1\" class=\"dataframe\">\n",
       "  <thead>\n",
       "    <tr style=\"text-align: right;\">\n",
       "      <th></th>\n",
       "      <th>cast_total_facebook_likes</th>\n",
       "      <th>color</th>\n",
       "      <th>facenumber_in_poster</th>\n",
       "      <th>budget</th>\n",
       "      <th>title_year</th>\n",
       "      <th>duration</th>\n",
       "      <th>actor_2_facebook_likes</th>\n",
       "      <th>movie_facebook_likes</th>\n",
       "      <th>actor_3_facebook_likes</th>\n",
       "      <th>director_facebook_likes</th>\n",
       "      <th>actor_1_facebook_likes</th>\n",
       "    </tr>\n",
       "    <tr>\n",
       "      <th>movie_title</th>\n",
       "      <th></th>\n",
       "      <th></th>\n",
       "      <th></th>\n",
       "      <th></th>\n",
       "      <th></th>\n",
       "      <th></th>\n",
       "      <th></th>\n",
       "      <th></th>\n",
       "      <th></th>\n",
       "      <th></th>\n",
       "      <th></th>\n",
       "    </tr>\n",
       "  </thead>\n",
       "  <tbody>\n",
       "    <tr>\n",
       "      <th>The Dark Knight Rises</th>\n",
       "      <td>128886</td>\n",
       "      <td>Color</td>\n",
       "      <td>0.0</td>\n",
       "      <td>250000000.0</td>\n",
       "      <td>2012.0</td>\n",
       "      <td>164.0</td>\n",
       "      <td>23000.0</td>\n",
       "      <td>163000</td>\n",
       "      <td>23000.0</td>\n",
       "      <td>22000.0</td>\n",
       "      <td>27000.0</td>\n",
       "    </tr>\n",
       "    <tr>\n",
       "      <th>Pirates of the Caribbean: At World's End</th>\n",
       "      <td>73135</td>\n",
       "      <td>Color</td>\n",
       "      <td>1.0</td>\n",
       "      <td>300000000.0</td>\n",
       "      <td>2007.0</td>\n",
       "      <td>169.0</td>\n",
       "      <td>7700.0</td>\n",
       "      <td>5300</td>\n",
       "      <td>5000.0</td>\n",
       "      <td>575.0</td>\n",
       "      <td>40000.0</td>\n",
       "    </tr>\n",
       "    <tr>\n",
       "      <th>Avatar</th>\n",
       "      <td>36289</td>\n",
       "      <td>Color</td>\n",
       "      <td>1.0</td>\n",
       "      <td>237000000.0</td>\n",
       "      <td>2009.0</td>\n",
       "      <td>162.0</td>\n",
       "      <td>8200.0</td>\n",
       "      <td>34000</td>\n",
       "      <td>5300.0</td>\n",
       "      <td>7000.0</td>\n",
       "      <td>8500.0</td>\n",
       "    </tr>\n",
       "    <tr>\n",
       "      <th>The Lone Ranger</th>\n",
       "      <td>67106</td>\n",
       "      <td>Color</td>\n",
       "      <td>2.0</td>\n",
       "      <td>215000000.0</td>\n",
       "      <td>2013.0</td>\n",
       "      <td>150.0</td>\n",
       "      <td>7700.0</td>\n",
       "      <td>48000</td>\n",
       "      <td>6000.0</td>\n",
       "      <td>575.0</td>\n",
       "      <td>40000.0</td>\n",
       "    </tr>\n",
       "    <tr>\n",
       "      <th>Spectre</th>\n",
       "      <td>45755</td>\n",
       "      <td>Color</td>\n",
       "      <td>1.0</td>\n",
       "      <td>245000000.0</td>\n",
       "      <td>2015.0</td>\n",
       "      <td>148.0</td>\n",
       "      <td>8700.0</td>\n",
       "      <td>88000</td>\n",
       "      <td>8500.0</td>\n",
       "      <td>2200.0</td>\n",
       "      <td>11000.0</td>\n",
       "    </tr>\n",
       "  </tbody>\n",
       "</table>\n",
       "</div>"
      ],
      "text/plain": [
       "                                          cast_total_facebook_likes  color  \\\n",
       "movie_title                                                                  \n",
       "The Dark Knight Rises                                        128886  Color   \n",
       "Pirates of the Caribbean: At World's End                      73135  Color   \n",
       "Avatar                                                        36289  Color   \n",
       "The Lone Ranger                                               67106  Color   \n",
       "Spectre                                                       45755  Color   \n",
       "\n",
       "                                          facenumber_in_poster       budget  \\\n",
       "movie_title                                                                   \n",
       "The Dark Knight Rises                                      0.0  250000000.0   \n",
       "Pirates of the Caribbean: At World's End                   1.0  300000000.0   \n",
       "Avatar                                                     1.0  237000000.0   \n",
       "The Lone Ranger                                            2.0  215000000.0   \n",
       "Spectre                                                    1.0  245000000.0   \n",
       "\n",
       "                                          title_year  duration  \\\n",
       "movie_title                                                      \n",
       "The Dark Knight Rises                         2012.0     164.0   \n",
       "Pirates of the Caribbean: At World's End      2007.0     169.0   \n",
       "Avatar                                        2009.0     162.0   \n",
       "The Lone Ranger                               2013.0     150.0   \n",
       "Spectre                                       2015.0     148.0   \n",
       "\n",
       "                                          actor_2_facebook_likes  \\\n",
       "movie_title                                                        \n",
       "The Dark Knight Rises                                    23000.0   \n",
       "Pirates of the Caribbean: At World's End                  7700.0   \n",
       "Avatar                                                    8200.0   \n",
       "The Lone Ranger                                           7700.0   \n",
       "Spectre                                                   8700.0   \n",
       "\n",
       "                                          movie_facebook_likes  \\\n",
       "movie_title                                                      \n",
       "The Dark Knight Rises                                   163000   \n",
       "Pirates of the Caribbean: At World's End                  5300   \n",
       "Avatar                                                   34000   \n",
       "The Lone Ranger                                          48000   \n",
       "Spectre                                                  88000   \n",
       "\n",
       "                                          actor_3_facebook_likes  \\\n",
       "movie_title                                                        \n",
       "The Dark Knight Rises                                    23000.0   \n",
       "Pirates of the Caribbean: At World's End                  5000.0   \n",
       "Avatar                                                    5300.0   \n",
       "The Lone Ranger                                           6000.0   \n",
       "Spectre                                                   8500.0   \n",
       "\n",
       "                                          director_facebook_likes  \\\n",
       "movie_title                                                         \n",
       "The Dark Knight Rises                                     22000.0   \n",
       "Pirates of the Caribbean: At World's End                    575.0   \n",
       "Avatar                                                     7000.0   \n",
       "The Lone Ranger                                             575.0   \n",
       "Spectre                                                    2200.0   \n",
       "\n",
       "                                          actor_1_facebook_likes  \n",
       "movie_title                                                       \n",
       "The Dark Knight Rises                                    27000.0  \n",
       "Pirates of the Caribbean: At World's End                 40000.0  \n",
       "Avatar                                                    8500.0  \n",
       "The Lone Ranger                                          40000.0  \n",
       "Spectre                                                  11000.0  "
      ]
     },
     "execution_count": 72,
     "metadata": {},
     "output_type": "execute_result"
    }
   ],
   "source": [
    "dropped_cols = ['aspect_ratio', 'imdb_score', 'genres','language', 'country', 'content_rating', 'num_user_for_reviews', 'num_critic_for_reviews', 'num_voted_users']\n",
    "train_input_df.drop(dropped_cols, axis=1, inplace=True)\n",
    "train_input_df.info()\n",
    "train_input_df.head()"
   ]
  },
  {
   "cell_type": "code",
   "execution_count": 73,
   "metadata": {},
   "outputs": [],
   "source": [
    "train_input_df['cast_total_facebook_likes'] = train_input_df['cast_total_facebook_likes'].astype(np.float64)\n",
    "train_input_df['movie_facebook_likes'] = train_input_df['movie_facebook_likes'].astype(np.float64)"
   ]
  },
  {
   "cell_type": "code",
   "execution_count": 74,
   "metadata": {},
   "outputs": [],
   "source": [
    "def compute_mean_mode(train_input_df):\n",
    "    # TODO\n",
    "    df = train_input_df.select_dtypes(exclude=['object'])\n",
    "    mean_mode_dict = {}\n",
    "    \n",
    "    for column in df:\n",
    "        mean_mode_dict[column] = df[column].mean()\n",
    "    \n",
    "    df = train_input_df.select_dtypes(include=['object'])\n",
    "    for column in df:\n",
    "        mean_mode_dict[column] = df[column].mode()[0]\n",
    "    \n",
    "    return mean_mode_dict"
   ]
  },
  {
   "cell_type": "code",
   "execution_count": 75,
   "metadata": {
    "scrolled": false
   },
   "outputs": [
    {
     "data": {
      "text/plain": [
       "{'cast_total_facebook_likes': 24097.719384615386,\n",
       " 'facenumber_in_poster': 1.5627129142149272,\n",
       " 'budget': 61152055.27686763,\n",
       " 'title_year': 2004.1617413409597,\n",
       " 'duration': 110.09384711000621,\n",
       " 'actor_2_facebook_likes': 4802.207067575945,\n",
       " 'movie_facebook_likes': 12749.517846153845,\n",
       " 'actor_3_facebook_likes': 2827.464784362395,\n",
       " 'director_facebook_likes': 1452.6944971537002,\n",
       " 'actor_1_facebook_likes': 10682.169240271773,\n",
       " 'color': 'Color'}"
      ]
     },
     "execution_count": 75,
     "metadata": {},
     "output_type": "execute_result"
    }
   ],
   "source": [
    "mean_mode_dict = compute_mean_mode(train_input_df)\n",
    "mean_mode_dict"
   ]
  },
  {
   "cell_type": "code",
   "execution_count": 76,
   "metadata": {},
   "outputs": [],
   "source": [
    "def fill_missing_values(input_df, mean_mode_dict):\n",
    "    '''\n",
    "    Fills missing values for ALL columns of `input_df` using `mean_mode_dict`.\n",
    "    \n",
    "    Parameters\n",
    "    ----------\n",
    "    input_df : data frame\n",
    "        The data frame containing inputs.\n",
    "    mean_mode_dict : dictionary\n",
    "        mean_mode_dict[<column_name>] = mean/mode of this column (estimated from the training set).\n",
    "    \n",
    "    Returns\n",
    "    -------\n",
    "    filled_input_df : data frame\n",
    "        The data frame containing inputs after filling missing values.\n",
    "    '''\n",
    "    \n",
    "    filled_input_df = input_df\n",
    "    \n",
    "    # TODO\n",
    "    for column in input_df:\n",
    "        for key in mean_mode_dict:\n",
    "            if key == column:\n",
    "                filled_input_df[column].fillna(mean_mode_dict[key], inplace=True)\n",
    "    return filled_input_df"
   ]
  },
  {
   "cell_type": "code",
   "execution_count": 77,
   "metadata": {},
   "outputs": [
    {
     "name": "stdout",
     "output_type": "stream",
     "text": [
      "<class 'pandas.core.frame.DataFrame'>\n",
      "Index: 3250 entries, The Dark Knight Rises to In the Cut\n",
      "Data columns (total 11 columns):\n",
      "cast_total_facebook_likes    3250 non-null float64\n",
      "color                        3250 non-null object\n",
      "facenumber_in_poster         3250 non-null float64\n",
      "budget                       3250 non-null float64\n",
      "title_year                   3250 non-null float64\n",
      "duration                     3250 non-null float64\n",
      "actor_2_facebook_likes       3250 non-null float64\n",
      "movie_facebook_likes         3250 non-null float64\n",
      "actor_3_facebook_likes       3250 non-null float64\n",
      "director_facebook_likes      3250 non-null float64\n",
      "actor_1_facebook_likes       3250 non-null float64\n",
      "dtypes: float64(10), object(1)\n",
      "memory usage: 304.7+ KB\n",
      "None\n"
     ]
    }
   ],
   "source": [
    "# Fill and check the result\n",
    "train_input_df = fill_missing_values(train_input_df, mean_mode_dict)\n",
    "print(train_input_df.info())"
   ]
  },
  {
   "cell_type": "code",
   "execution_count": 78,
   "metadata": {},
   "outputs": [
    {
     "data": {
      "text/plain": [
       "movie_title\n",
       "The Dark Knight Rises                       8.5\n",
       "Pirates of the Caribbean: At World's End    7.1\n",
       "Avatar                                      7.8\n",
       "The Lone Ranger                             6.5\n",
       "Spectre                                     6.8\n",
       "Name: imdb_score, dtype: float64"
      ]
     },
     "execution_count": 78,
     "metadata": {},
     "output_type": "execute_result"
    }
   ],
   "source": [
    "train_output_df.head()"
   ]
  },
  {
   "cell_type": "code",
   "execution_count": 79,
   "metadata": {},
   "outputs": [],
   "source": [
    "def process_categorical_cols(input_df):\n",
    "    # TODO\n",
    "    numeric_input_df = input_df\n",
    "    df = (input_df.color.str.get_dummies()) #one hot.\n",
    "    numeric_input_df['Color'] = df['Color'].astype(float)\n",
    "    #drop:\n",
    "    numeric_input_df = numeric_input_df.drop('color', axis=1)\n",
    "    return numeric_input_df"
   ]
  },
  {
   "cell_type": "code",
   "execution_count": 80,
   "metadata": {
    "scrolled": false
   },
   "outputs": [
    {
     "name": "stdout",
     "output_type": "stream",
     "text": [
      "<class 'pandas.core.frame.DataFrame'>\n",
      "Index: 3250 entries, The Dark Knight Rises to In the Cut\n",
      "Data columns (total 11 columns):\n",
      "cast_total_facebook_likes    3250 non-null float64\n",
      "facenumber_in_poster         3250 non-null float64\n",
      "budget                       3250 non-null float64\n",
      "title_year                   3250 non-null float64\n",
      "duration                     3250 non-null float64\n",
      "actor_2_facebook_likes       3250 non-null float64\n",
      "movie_facebook_likes         3250 non-null float64\n",
      "actor_3_facebook_likes       3250 non-null float64\n",
      "director_facebook_likes      3250 non-null float64\n",
      "actor_1_facebook_likes       3250 non-null float64\n",
      "Color                        3250 non-null float64\n",
      "dtypes: float64(11)\n",
      "memory usage: 304.7+ KB\n"
     ]
    },
    {
     "data": {
      "text/html": [
       "<div>\n",
       "<style scoped>\n",
       "    .dataframe tbody tr th:only-of-type {\n",
       "        vertical-align: middle;\n",
       "    }\n",
       "\n",
       "    .dataframe tbody tr th {\n",
       "        vertical-align: top;\n",
       "    }\n",
       "\n",
       "    .dataframe thead th {\n",
       "        text-align: right;\n",
       "    }\n",
       "</style>\n",
       "<table border=\"1\" class=\"dataframe\">\n",
       "  <thead>\n",
       "    <tr style=\"text-align: right;\">\n",
       "      <th></th>\n",
       "      <th>cast_total_facebook_likes</th>\n",
       "      <th>facenumber_in_poster</th>\n",
       "      <th>budget</th>\n",
       "      <th>title_year</th>\n",
       "      <th>duration</th>\n",
       "      <th>actor_2_facebook_likes</th>\n",
       "      <th>movie_facebook_likes</th>\n",
       "      <th>actor_3_facebook_likes</th>\n",
       "      <th>director_facebook_likes</th>\n",
       "      <th>actor_1_facebook_likes</th>\n",
       "      <th>Color</th>\n",
       "    </tr>\n",
       "    <tr>\n",
       "      <th>movie_title</th>\n",
       "      <th></th>\n",
       "      <th></th>\n",
       "      <th></th>\n",
       "      <th></th>\n",
       "      <th></th>\n",
       "      <th></th>\n",
       "      <th></th>\n",
       "      <th></th>\n",
       "      <th></th>\n",
       "      <th></th>\n",
       "      <th></th>\n",
       "    </tr>\n",
       "  </thead>\n",
       "  <tbody>\n",
       "    <tr>\n",
       "      <th>The Dark Knight Rises</th>\n",
       "      <td>128886.0</td>\n",
       "      <td>0.0</td>\n",
       "      <td>250000000.0</td>\n",
       "      <td>2012.0</td>\n",
       "      <td>164.0</td>\n",
       "      <td>23000.0</td>\n",
       "      <td>163000.0</td>\n",
       "      <td>23000.0</td>\n",
       "      <td>22000.0</td>\n",
       "      <td>27000.0</td>\n",
       "      <td>1.0</td>\n",
       "    </tr>\n",
       "    <tr>\n",
       "      <th>Pirates of the Caribbean: At World's End</th>\n",
       "      <td>73135.0</td>\n",
       "      <td>1.0</td>\n",
       "      <td>300000000.0</td>\n",
       "      <td>2007.0</td>\n",
       "      <td>169.0</td>\n",
       "      <td>7700.0</td>\n",
       "      <td>5300.0</td>\n",
       "      <td>5000.0</td>\n",
       "      <td>575.0</td>\n",
       "      <td>40000.0</td>\n",
       "      <td>1.0</td>\n",
       "    </tr>\n",
       "    <tr>\n",
       "      <th>Avatar</th>\n",
       "      <td>36289.0</td>\n",
       "      <td>1.0</td>\n",
       "      <td>237000000.0</td>\n",
       "      <td>2009.0</td>\n",
       "      <td>162.0</td>\n",
       "      <td>8200.0</td>\n",
       "      <td>34000.0</td>\n",
       "      <td>5300.0</td>\n",
       "      <td>7000.0</td>\n",
       "      <td>8500.0</td>\n",
       "      <td>1.0</td>\n",
       "    </tr>\n",
       "    <tr>\n",
       "      <th>The Lone Ranger</th>\n",
       "      <td>67106.0</td>\n",
       "      <td>2.0</td>\n",
       "      <td>215000000.0</td>\n",
       "      <td>2013.0</td>\n",
       "      <td>150.0</td>\n",
       "      <td>7700.0</td>\n",
       "      <td>48000.0</td>\n",
       "      <td>6000.0</td>\n",
       "      <td>575.0</td>\n",
       "      <td>40000.0</td>\n",
       "      <td>1.0</td>\n",
       "    </tr>\n",
       "    <tr>\n",
       "      <th>Spectre</th>\n",
       "      <td>45755.0</td>\n",
       "      <td>1.0</td>\n",
       "      <td>245000000.0</td>\n",
       "      <td>2015.0</td>\n",
       "      <td>148.0</td>\n",
       "      <td>8700.0</td>\n",
       "      <td>88000.0</td>\n",
       "      <td>8500.0</td>\n",
       "      <td>2200.0</td>\n",
       "      <td>11000.0</td>\n",
       "      <td>1.0</td>\n",
       "    </tr>\n",
       "  </tbody>\n",
       "</table>\n",
       "</div>"
      ],
      "text/plain": [
       "                                          cast_total_facebook_likes  \\\n",
       "movie_title                                                           \n",
       "The Dark Knight Rises                                      128886.0   \n",
       "Pirates of the Caribbean: At World's End                    73135.0   \n",
       "Avatar                                                      36289.0   \n",
       "The Lone Ranger                                             67106.0   \n",
       "Spectre                                                     45755.0   \n",
       "\n",
       "                                          facenumber_in_poster       budget  \\\n",
       "movie_title                                                                   \n",
       "The Dark Knight Rises                                      0.0  250000000.0   \n",
       "Pirates of the Caribbean: At World's End                   1.0  300000000.0   \n",
       "Avatar                                                     1.0  237000000.0   \n",
       "The Lone Ranger                                            2.0  215000000.0   \n",
       "Spectre                                                    1.0  245000000.0   \n",
       "\n",
       "                                          title_year  duration  \\\n",
       "movie_title                                                      \n",
       "The Dark Knight Rises                         2012.0     164.0   \n",
       "Pirates of the Caribbean: At World's End      2007.0     169.0   \n",
       "Avatar                                        2009.0     162.0   \n",
       "The Lone Ranger                               2013.0     150.0   \n",
       "Spectre                                       2015.0     148.0   \n",
       "\n",
       "                                          actor_2_facebook_likes  \\\n",
       "movie_title                                                        \n",
       "The Dark Knight Rises                                    23000.0   \n",
       "Pirates of the Caribbean: At World's End                  7700.0   \n",
       "Avatar                                                    8200.0   \n",
       "The Lone Ranger                                           7700.0   \n",
       "Spectre                                                   8700.0   \n",
       "\n",
       "                                          movie_facebook_likes  \\\n",
       "movie_title                                                      \n",
       "The Dark Knight Rises                                 163000.0   \n",
       "Pirates of the Caribbean: At World's End                5300.0   \n",
       "Avatar                                                 34000.0   \n",
       "The Lone Ranger                                        48000.0   \n",
       "Spectre                                                88000.0   \n",
       "\n",
       "                                          actor_3_facebook_likes  \\\n",
       "movie_title                                                        \n",
       "The Dark Knight Rises                                    23000.0   \n",
       "Pirates of the Caribbean: At World's End                  5000.0   \n",
       "Avatar                                                    5300.0   \n",
       "The Lone Ranger                                           6000.0   \n",
       "Spectre                                                   8500.0   \n",
       "\n",
       "                                          director_facebook_likes  \\\n",
       "movie_title                                                         \n",
       "The Dark Knight Rises                                     22000.0   \n",
       "Pirates of the Caribbean: At World's End                    575.0   \n",
       "Avatar                                                     7000.0   \n",
       "The Lone Ranger                                             575.0   \n",
       "Spectre                                                    2200.0   \n",
       "\n",
       "                                          actor_1_facebook_likes  Color  \n",
       "movie_title                                                              \n",
       "The Dark Knight Rises                                    27000.0    1.0  \n",
       "Pirates of the Caribbean: At World's End                 40000.0    1.0  \n",
       "Avatar                                                    8500.0    1.0  \n",
       "The Lone Ranger                                          40000.0    1.0  \n",
       "Spectre                                                  11000.0    1.0  "
      ]
     },
     "execution_count": 80,
     "metadata": {},
     "output_type": "execute_result"
    }
   ],
   "source": [
    "train_input_df = process_categorical_cols(train_input_df)\n",
    "train_input_df.info()\n",
    "print\n",
    "train_input_df.head()"
   ]
  },
  {
   "cell_type": "code",
   "execution_count": 81,
   "metadata": {
    "scrolled": true
   },
   "outputs": [
    {
     "name": "stdout",
     "output_type": "stream",
     "text": [
      "(3250, 11)\n"
     ]
    }
   ],
   "source": [
    "train_X = train_input_df.values\n",
    "print(train_X.shape)"
   ]
  },
  {
   "cell_type": "code",
   "execution_count": 82,
   "metadata": {},
   "outputs": [],
   "source": [
    "# TODO: compute `X_mean` and `X_std`\n",
    "X_mean = train_X.mean(axis=0)\n",
    "X_std = train_X.std(axis=0)"
   ]
  },
  {
   "cell_type": "code",
   "execution_count": 83,
   "metadata": {},
   "outputs": [
    {
     "name": "stdout",
     "output_type": "stream",
     "text": [
      "[2.40977194e+04 1.56271291e+00 6.11520553e+07 2.00416174e+03\n",
      " 1.10093847e+02 4.80220707e+03 1.27495178e+04 2.82746478e+03\n",
      " 1.45269450e+03 1.06821692e+04 9.70769231e-01]\n",
      "[2.32908734e+04 2.50614940e+00 4.95108248e+08 9.28719008e+00\n",
      " 2.34975197e+01 4.66785096e+03 2.31846121e+04 2.61196075e+03\n",
      " 3.47488979e+03 1.62019777e+04 1.68452757e-01]\n"
     ]
    }
   ],
   "source": [
    "print(X_mean)\n",
    "print(X_std)"
   ]
  },
  {
   "cell_type": "code",
   "execution_count": 84,
   "metadata": {},
   "outputs": [],
   "source": [
    "# TODO: normalize train_X using X_mean and X_std\n",
    "for i in range(train_X.shape[0]):\n",
    "    for j in range(train_X.shape[1]):\n",
    "        train_X[i][j] =  (train_X[i][j]-X_mean[j])/X_std[j]"
   ]
  },
  {
   "cell_type": "code",
   "execution_count": 85,
   "metadata": {},
   "outputs": [
    {
     "name": "stdout",
     "output_type": "stream",
     "text": [
      "[-5.24708482e-17  9.61965550e-17 -4.37257068e-18 -2.81593552e-14\n",
      "  2.53609100e-16  6.99611309e-17  3.49805655e-17  3.49805655e-17\n",
      " -8.74514136e-17  0.00000000e+00  3.64016509e-16]\n",
      "[1. 1. 1. 1. 1. 1. 1. 1. 1. 1. 1.]\n"
     ]
    }
   ],
   "source": [
    "print(train_X.mean(axis=0))\n",
    "print(train_X.std(axis=0))"
   ]
  },
  {
   "cell_type": "code",
   "execution_count": 86,
   "metadata": {
    "scrolled": true
   },
   "outputs": [
    {
     "name": "stdout",
     "output_type": "stream",
     "text": [
      "(3250, 12)\n"
     ]
    }
   ],
   "source": [
    "# Add x_0 column\n",
    "train_X = np.hstack([np.ones((len(train_X), 1)), train_X])\n",
    "print(train_X.shape)"
   ]
  },
  {
   "cell_type": "markdown",
   "metadata": {},
   "source": [
    "**1.1. Xây dựng train Y từ train_output_df**"
   ]
  },
  {
   "cell_type": "code",
   "execution_count": 87,
   "metadata": {},
   "outputs": [
    {
     "name": "stdout",
     "output_type": "stream",
     "text": [
      "(3250, 1)\n",
      "[[8.5]\n",
      " [7.1]\n",
      " [7.8]\n",
      " ...\n",
      " [5. ]\n",
      " [4.7]\n",
      " [5.3]]\n"
     ]
    }
   ],
   "source": [
    "train_output_df.fillna(train_output_df.mean(), inplace=True)\n",
    "train_Y = train_output_df.values.reshape(-1, 1)\n",
    "print(train_Y.shape)\n",
    "print(train_Y)"
   ]
  },
  {
   "cell_type": "code",
   "execution_count": 92,
   "metadata": {},
   "outputs": [
    {
     "name": "stdout",
     "output_type": "stream",
     "text": [
      "(3250, 12)\n",
      "[[9.69331811]\n",
      " [6.70810318]\n",
      " [7.30096606]\n",
      " ...\n",
      " [6.29349714]\n",
      " [5.90494757]\n",
      " [6.80705368]]\n"
     ]
    }
   ],
   "source": [
    "print(train_X.shape)\n",
    "\n",
    "regr = linear_model.LinearRegression()\n",
    "regr.fit(train_X, train_Y)\n",
    "\n",
    "y_pred = regr.predict(train_X)\n",
    "print(y_pred)"
   ]
  },
  {
   "cell_type": "code",
   "execution_count": 97,
   "metadata": {},
   "outputs": [],
   "source": [
    "# Xây dựng tập test"
   ]
  },
  {
   "cell_type": "code",
   "execution_count": 94,
   "metadata": {},
   "outputs": [
    {
     "data": {
      "text/plain": [
       "(1086, 12)"
      ]
     },
     "execution_count": 94,
     "metadata": {},
     "output_type": "execute_result"
    }
   ],
   "source": [
    "test_input_df = test_df.iloc[:, 0:]\n",
    "test_output_df = test_df.imdb_score\n",
    "\n",
    "test_X = process_new_input_df(test_input_df, dropped_cols, mean_mode_dict, X_mean, X_std)\n",
    "test_X.shape\n"
   ]
  },
  {
   "cell_type": "code",
   "execution_count": 95,
   "metadata": {},
   "outputs": [
    {
     "data": {
      "text/plain": [
       "(1086, 1)"
      ]
     },
     "execution_count": 95,
     "metadata": {},
     "output_type": "execute_result"
    }
   ],
   "source": [
    "test_output_df.fillna(train_output_df.mean(), inplace=True)\n",
    "test_Y = test_output_df.values.reshape(-1, 1)\n",
    "test_Y.shape"
   ]
  },
  {
   "cell_type": "code",
   "execution_count": 102,
   "metadata": {},
   "outputs": [
    {
     "name": "stdout",
     "output_type": "stream",
     "text": [
      "(3250, 12)\n",
      "[[5.84741322]\n",
      " [6.16892421]\n",
      " [5.81550843]\n",
      " ...\n",
      " [5.77885311]\n",
      " [5.99737075]\n",
      " [5.71340053]]\n"
     ]
    },
    {
     "data": {
      "text/plain": [
       "[<matplotlib.lines.Line2D at 0x1cc3a731390>,\n",
       " <matplotlib.lines.Line2D at 0x1cc3a731da0>,\n",
       " <matplotlib.lines.Line2D at 0x1cc3a731940>,\n",
       " <matplotlib.lines.Line2D at 0x1cc3a731a20>,\n",
       " <matplotlib.lines.Line2D at 0x1cc3a7310f0>,\n",
       " <matplotlib.lines.Line2D at 0x1cc3a731588>,\n",
       " <matplotlib.lines.Line2D at 0x1cc3a731fd0>,\n",
       " <matplotlib.lines.Line2D at 0x1cc3a731710>,\n",
       " <matplotlib.lines.Line2D at 0x1cc3a731e80>,\n",
       " <matplotlib.lines.Line2D at 0x1cc3a6e4fd0>,\n",
       " <matplotlib.lines.Line2D at 0x1cc3a6e4e48>,\n",
       " <matplotlib.lines.Line2D at 0x1cc3a6e3048>]"
      ]
     },
     "execution_count": 102,
     "metadata": {},
     "output_type": "execute_result"
    },
    {
     "data": {
      "image/png": "[encoded data removed]",
      "text/plain": [
       "<Figure size 432x288 with 1 Axes>"
      ]
     },
     "metadata": {
      "needs_background": "light"
     },
     "output_type": "display_data"
    }
   ],
   "source": [
    "print(train_X.shape)\n",
    "\n",
    "regr = linear_model.LinearRegression()\n",
    "regr.fit(train_X, train_Y)\n",
    "\n",
    "y_pred = regr.predict(test_X)\n",
    "print(y_pred)\n",
    "plt.plot(train_X, train_Y, 'ro', label='Original data')\n"
   ]
  },
  {
   "cell_type": "code",
   "execution_count": 99,
   "metadata": {},
   "outputs": [],
   "source": [
    "from sklearn.linear_model import Ridge\n",
    "\n",
    "np.random.seed(42)\n",
    "param_grid = {'alpha':np.linspace(0,15, 30)}\n",
    "#uncomment next line for grid search\n",
    "#TuneHyp(X, y, model = Ridge(), param_grid = param_grid, scoring = 'neg_mean_squared_error', cvn = 5)\n"
   ]
  },
  {
   "cell_type": "code",
   "execution_count": 101,
   "metadata": {},
   "outputs": [
    {
     "name": "stdout",
     "output_type": "stream",
     "text": [
      "[[345.95898446]\n",
      " [476.17188652]\n",
      " [335.17869548]\n",
      " ...\n",
      " [322.85288287]\n",
      " [401.6406697 ]\n",
      " [302.54828608]]\n"
     ]
    }
   ],
   "source": [
    "rdg = Ridge(alpha = 12.017241379310345)\n",
    "rdg.fit(train_X, train_Y)\n",
    "y_rdg = np.expm1(rdg.predict(test_X))\n",
    "print(y_rdg)"
   ]
  },
  {
   "cell_type": "markdown",
   "metadata": {},
   "source": [
    "**2. Tiền xử lí tập Validation**"
   ]
  },
  {
   "cell_type": "code",
   "execution_count": 88,
   "metadata": {},
   "outputs": [],
   "source": [
    "val_input_df = val_df.iloc[:, 0:]\n",
    "val_output_df = val_df.imdb_score\n",
    "#val_out_df = fill_missing_values(val_output_df, mean_mode_dict)\n",
    "#val_input_df = val_input_df.drop('imdb_score', 1)"
   ]
  },
  {
   "cell_type": "markdown",
   "metadata": {},
   "source": [
    "**2.1. Xây dựng val_X từ val_input_df**"
   ]
  },
  {
   "cell_type": "code",
   "execution_count": 35,
   "metadata": {},
   "outputs": [],
   "source": [
    "def process_new_input_df(new_input_df, dropped_cols, mean_mode_dict, X_mean, X_std):\n",
    "    # TODO\n",
    "    new_input_df.drop(dropped_cols, axis=1, inplace=True)\n",
    "    new_input_df['cast_total_facebook_likes'] = new_input_df['cast_total_facebook_likes'].astype(np.float64)\n",
    "    new_input_df['movie_facebook_likes'] = new_input_df['movie_facebook_likes'].astype(np.float64)\n",
    "    new_input_df = fill_missing_values(new_input_df, mean_mode_dict)\n",
    "    new_input_df = process_categorical_cols(new_input_df)\n",
    "    \n",
    "    new_X = new_input_df.values\n",
    "    for i in range(new_X.shape[0]):\n",
    "        for j in range(new_X.shape[1]):\n",
    "            new_X[i][j] =  (new_X[i][j] - X_mean[j]) / X_std[j]\n",
    "            \n",
    "    new_X = np.hstack([np.ones((len(new_X), 1)), new_X])\n",
    "    \n",
    "    return new_X"
   ]
  },
  {
   "cell_type": "code",
   "execution_count": 36,
   "metadata": {
    "scrolled": false
   },
   "outputs": [
    {
     "data": {
      "text/plain": [
       "(1083, 12)"
      ]
     },
     "execution_count": 36,
     "metadata": {},
     "output_type": "execute_result"
    }
   ],
   "source": [
    "val_X = process_new_input_df(val_input_df, dropped_cols, mean_mode_dict, X_mean, X_std)\n",
    "val_X.shape"
   ]
  },
  {
   "cell_type": "markdown",
   "metadata": {},
   "source": [
    "**2.2. Xây dựng val_Y từ val_output_df**"
   ]
  },
  {
   "cell_type": "code",
   "execution_count": 37,
   "metadata": {},
   "outputs": [
    {
     "name": "stdout",
     "output_type": "stream",
     "text": [
      "[[7. ]\n",
      " [7.1]\n",
      " [7.7]\n",
      " ...\n",
      " [8.4]\n",
      " [4.8]\n",
      " [3.2]]\n"
     ]
    }
   ],
   "source": [
    "val_output_df.fillna(train_output_df.mean(), inplace=True)\n",
    "val_Y = val_output_df.values.reshape(-1, 1)\n",
    "val_Y.shape\n",
    "\n",
    "print(val_Y)"
   ]
  },
  {
   "cell_type": "markdown",
   "metadata": {},
   "source": [
    "**Xử lí genres**"
   ]
  },
  {
   "cell_type": "code",
   "execution_count": 38,
   "metadata": {},
   "outputs": [],
   "source": [
    "def process_genres(matrix):\n",
    "    train_df['genres'].fillna(train_df['genres'].mode()[0], inplace=True)\n",
    "    list_genres = train_df.genres.values\n",
    "    l = []\n",
    "    for i in list_genres:\n",
    "        l.append(i.split('|'))\n",
    "\n",
    "    genres_list = []\n",
    "    for genres in l:\n",
    "        for j in genres:\n",
    "            if j not in genres_list:\n",
    "                genres_list.append(j)\n",
    "\n",
    "    genres_dataframe = pd.DataFrame(0, index=np.arange(matrix.shape[0]), columns=genres_list).astype(np.float64)\n",
    "    for index in range(len(l)):\n",
    "        for j in l[index]:\n",
    "            genres_dataframe[j][index] = 1\n",
    "            \n",
    "    genres_matrix = genres_dataframe.values\n",
    "    result = np.concatenate((matrix, genres_matrix), axis=1)\n",
    "    return result"
   ]
  },
  {
   "cell_type": "code",
   "execution_count": 61,
   "metadata": {},
   "outputs": [
    {
     "name": "stdout",
     "output_type": "stream",
     "text": [
      "(3250, 37)\n"
     ]
    }
   ],
   "source": [
    "train_X = process_genres(train_X)\n",
    "print(train_X.shape)"
   ]
  },
  {
   "cell_type": "code",
   "execution_count": 63,
   "metadata": {},
   "outputs": [
    {
     "name": "stdout",
     "output_type": "stream",
     "text": [
      "(1083, 62)\n"
     ]
    }
   ],
   "source": [
    "#val_X = process_genres(val_X)\n",
    "print(val_X.shape)"
   ]
  },
  {
   "cell_type": "code",
   "execution_count": 64,
   "metadata": {},
   "outputs": [
    {
     "name": "stdout",
     "output_type": "stream",
     "text": [
      "(3250, 37)\n"
     ]
    },
    {
     "ename": "ValueError",
     "evalue": "Input contains NaN, infinity or a value too large for dtype('float64').",
     "output_type": "error",
     "traceback": [
      "\u001b[1;31m---------------------------------------------------------------------------\u001b[0m",
      "\u001b[1;31mValueError\u001b[0m                                Traceback (most recent call last)",
      "\u001b[1;32m<ipython-input-64-d1c61d6207bd>\u001b[0m in \u001b[0;36m<module>\u001b[1;34m()\u001b[0m\n\u001b[0;32m      2\u001b[0m \u001b[1;33m\u001b[0m\u001b[0m\n\u001b[0;32m      3\u001b[0m \u001b[0mregr\u001b[0m \u001b[1;33m=\u001b[0m \u001b[0mlinear_model\u001b[0m\u001b[1;33m.\u001b[0m\u001b[0mLinearRegression\u001b[0m\u001b[1;33m(\u001b[0m\u001b[1;33m)\u001b[0m\u001b[1;33m\u001b[0m\u001b[0m\n\u001b[1;32m----> 4\u001b[1;33m \u001b[0mregr\u001b[0m\u001b[1;33m.\u001b[0m\u001b[0mfit\u001b[0m\u001b[1;33m(\u001b[0m\u001b[0mtrain_X\u001b[0m\u001b[1;33m,\u001b[0m \u001b[0mtrain_Y\u001b[0m\u001b[1;33m)\u001b[0m\u001b[1;33m\u001b[0m\u001b[0m\n\u001b[0m",
      "\u001b[1;32m~\\Anaconda3\\lib\\site-packages\\sklearn\\linear_model\\base.py\u001b[0m in \u001b[0;36mfit\u001b[1;34m(self, X, y, sample_weight)\u001b[0m\n\u001b[0;32m    480\u001b[0m         \u001b[0mn_jobs_\u001b[0m \u001b[1;33m=\u001b[0m \u001b[0mself\u001b[0m\u001b[1;33m.\u001b[0m\u001b[0mn_jobs\u001b[0m\u001b[1;33m\u001b[0m\u001b[0m\n\u001b[0;32m    481\u001b[0m         X, y = check_X_y(X, y, accept_sparse=['csr', 'csc', 'coo'],\n\u001b[1;32m--> 482\u001b[1;33m                          y_numeric=True, multi_output=True)\n\u001b[0m\u001b[0;32m    483\u001b[0m \u001b[1;33m\u001b[0m\u001b[0m\n\u001b[0;32m    484\u001b[0m         \u001b[1;32mif\u001b[0m \u001b[0msample_weight\u001b[0m \u001b[1;32mis\u001b[0m \u001b[1;32mnot\u001b[0m \u001b[1;32mNone\u001b[0m \u001b[1;32mand\u001b[0m \u001b[0mnp\u001b[0m\u001b[1;33m.\u001b[0m\u001b[0matleast_1d\u001b[0m\u001b[1;33m(\u001b[0m\u001b[0msample_weight\u001b[0m\u001b[1;33m)\u001b[0m\u001b[1;33m.\u001b[0m\u001b[0mndim\u001b[0m \u001b[1;33m>\u001b[0m \u001b[1;36m1\u001b[0m\u001b[1;33m:\u001b[0m\u001b[1;33m\u001b[0m\u001b[0m\n",
      "\u001b[1;32m~\\Anaconda3\\lib\\site-packages\\sklearn\\utils\\validation.py\u001b[0m in \u001b[0;36mcheck_X_y\u001b[1;34m(X, y, accept_sparse, dtype, order, copy, force_all_finite, ensure_2d, allow_nd, multi_output, ensure_min_samples, ensure_min_features, y_numeric, warn_on_dtype, estimator)\u001b[0m\n\u001b[0;32m    571\u001b[0m     X = check_array(X, accept_sparse, dtype, order, copy, force_all_finite,\n\u001b[0;32m    572\u001b[0m                     \u001b[0mensure_2d\u001b[0m\u001b[1;33m,\u001b[0m \u001b[0mallow_nd\u001b[0m\u001b[1;33m,\u001b[0m \u001b[0mensure_min_samples\u001b[0m\u001b[1;33m,\u001b[0m\u001b[1;33m\u001b[0m\u001b[0m\n\u001b[1;32m--> 573\u001b[1;33m                     ensure_min_features, warn_on_dtype, estimator)\n\u001b[0m\u001b[0;32m    574\u001b[0m     \u001b[1;32mif\u001b[0m \u001b[0mmulti_output\u001b[0m\u001b[1;33m:\u001b[0m\u001b[1;33m\u001b[0m\u001b[0m\n\u001b[0;32m    575\u001b[0m         y = check_array(y, 'csr', force_all_finite=True, ensure_2d=False,\n",
      "\u001b[1;32m~\\Anaconda3\\lib\\site-packages\\sklearn\\utils\\validation.py\u001b[0m in \u001b[0;36mcheck_array\u001b[1;34m(array, accept_sparse, dtype, order, copy, force_all_finite, ensure_2d, allow_nd, ensure_min_samples, ensure_min_features, warn_on_dtype, estimator)\u001b[0m\n\u001b[0;32m    451\u001b[0m                              % (array.ndim, estimator_name))\n\u001b[0;32m    452\u001b[0m         \u001b[1;32mif\u001b[0m \u001b[0mforce_all_finite\u001b[0m\u001b[1;33m:\u001b[0m\u001b[1;33m\u001b[0m\u001b[0m\n\u001b[1;32m--> 453\u001b[1;33m             \u001b[0m_assert_all_finite\u001b[0m\u001b[1;33m(\u001b[0m\u001b[0marray\u001b[0m\u001b[1;33m)\u001b[0m\u001b[1;33m\u001b[0m\u001b[0m\n\u001b[0m\u001b[0;32m    454\u001b[0m \u001b[1;33m\u001b[0m\u001b[0m\n\u001b[0;32m    455\u001b[0m     \u001b[0mshape_repr\u001b[0m \u001b[1;33m=\u001b[0m \u001b[0m_shape_repr\u001b[0m\u001b[1;33m(\u001b[0m\u001b[0marray\u001b[0m\u001b[1;33m.\u001b[0m\u001b[0mshape\u001b[0m\u001b[1;33m)\u001b[0m\u001b[1;33m\u001b[0m\u001b[0m\n",
      "\u001b[1;32m~\\Anaconda3\\lib\\site-packages\\sklearn\\utils\\validation.py\u001b[0m in \u001b[0;36m_assert_all_finite\u001b[1;34m(X)\u001b[0m\n\u001b[0;32m     42\u001b[0m             and not np.isfinite(X).all()):\n\u001b[0;32m     43\u001b[0m         raise ValueError(\"Input contains NaN, infinity\"\n\u001b[1;32m---> 44\u001b[1;33m                          \" or a value too large for %r.\" % X.dtype)\n\u001b[0m\u001b[0;32m     45\u001b[0m \u001b[1;33m\u001b[0m\u001b[0m\n\u001b[0;32m     46\u001b[0m \u001b[1;33m\u001b[0m\u001b[0m\n",
      "\u001b[1;31mValueError\u001b[0m: Input contains NaN, infinity or a value too large for dtype('float64')."
     ]
    }
   ],
   "source": [
    "print(train_X.shape)\n",
    "\n",
    "regr = linear_model.LinearRegression()\n",
    "regr.fit(train_X, train_Y)\n"
   ]
  },
  {
   "cell_type": "code",
   "execution_count": null,
   "metadata": {},
   "outputs": [],
   "source": []
  },
  {
   "cell_type": "markdown",
   "metadata": {
    "collapsed": true
   },
   "source": [
    "## Huấn luyện"
   ]
  },
  {
   "cell_type": "markdown",
   "metadata": {},
   "source": [
    "Ở đây chúng ta sẽ sử dụng 3 mô hình để huấn luyện, đó là:\n",
    "\n",
    " - Mô hình Linear Regression\n",
    " \n",
    " - Mô hình Ridge Regression\n",
    " \n",
    " - Nếu còn thời gian thì nhóm sẽ tiên hành thử mô hình Neural Network.\n",
    " "
   ]
  },
  {
   "cell_type": "code",
   "execution_count": 42,
   "metadata": {},
   "outputs": [],
   "source": []
  },
  {
   "cell_type": "code",
   "execution_count": 43,
   "metadata": {
    "scrolled": false
   },
   "outputs": [],
   "source": []
  },
  {
   "cell_type": "code",
   "execution_count": 44,
   "metadata": {},
   "outputs": [],
   "source": [
    "def train_NNR(hidden_layer, learning_rate, wd):\n",
    "    NNR = MLPRegressor(activation='logistic', solver='sgd', random_state=0, hidden_layer_sizes=hidden_layer, learning_rate_init=learning_rate, max_iter=10000, alpha=wd)\n",
    "    \n",
    "    NNR.fit(train_X, train_Y)\n",
    "    \n",
    "    return mean_squared_error(train_Y, NNR.predict(train_X)), mean_squared_error(val_Y, NNR.predict(val_X))"
   ]
  },
  {
   "cell_type": "code",
   "execution_count": 59,
   "metadata": {},
   "outputs": [
    {
     "name": "stdout",
     "output_type": "stream",
     "text": [
      "(3250, 37)\n"
     ]
    },
    {
     "ename": "ValueError",
     "evalue": "Input contains NaN, infinity or a value too large for dtype('float64').",
     "output_type": "error",
     "traceback": [
      "\u001b[1;31m---------------------------------------------------------------------------\u001b[0m",
      "\u001b[1;31mValueError\u001b[0m                                Traceback (most recent call last)",
      "\u001b[1;32m<ipython-input-59-d1c61d6207bd>\u001b[0m in \u001b[0;36m<module>\u001b[1;34m()\u001b[0m\n\u001b[0;32m      2\u001b[0m \u001b[1;33m\u001b[0m\u001b[0m\n\u001b[0;32m      3\u001b[0m \u001b[0mregr\u001b[0m \u001b[1;33m=\u001b[0m \u001b[0mlinear_model\u001b[0m\u001b[1;33m.\u001b[0m\u001b[0mLinearRegression\u001b[0m\u001b[1;33m(\u001b[0m\u001b[1;33m)\u001b[0m\u001b[1;33m\u001b[0m\u001b[0m\n\u001b[1;32m----> 4\u001b[1;33m \u001b[0mregr\u001b[0m\u001b[1;33m.\u001b[0m\u001b[0mfit\u001b[0m\u001b[1;33m(\u001b[0m\u001b[0mtrain_X\u001b[0m\u001b[1;33m,\u001b[0m \u001b[0mtrain_Y\u001b[0m\u001b[1;33m)\u001b[0m\u001b[1;33m\u001b[0m\u001b[0m\n\u001b[0m",
      "\u001b[1;32m~\\Anaconda3\\lib\\site-packages\\sklearn\\linear_model\\base.py\u001b[0m in \u001b[0;36mfit\u001b[1;34m(self, X, y, sample_weight)\u001b[0m\n\u001b[0;32m    480\u001b[0m         \u001b[0mn_jobs_\u001b[0m \u001b[1;33m=\u001b[0m \u001b[0mself\u001b[0m\u001b[1;33m.\u001b[0m\u001b[0mn_jobs\u001b[0m\u001b[1;33m\u001b[0m\u001b[0m\n\u001b[0;32m    481\u001b[0m         X, y = check_X_y(X, y, accept_sparse=['csr', 'csc', 'coo'],\n\u001b[1;32m--> 482\u001b[1;33m                          y_numeric=True, multi_output=True)\n\u001b[0m\u001b[0;32m    483\u001b[0m \u001b[1;33m\u001b[0m\u001b[0m\n\u001b[0;32m    484\u001b[0m         \u001b[1;32mif\u001b[0m \u001b[0msample_weight\u001b[0m \u001b[1;32mis\u001b[0m \u001b[1;32mnot\u001b[0m \u001b[1;32mNone\u001b[0m \u001b[1;32mand\u001b[0m \u001b[0mnp\u001b[0m\u001b[1;33m.\u001b[0m\u001b[0matleast_1d\u001b[0m\u001b[1;33m(\u001b[0m\u001b[0msample_weight\u001b[0m\u001b[1;33m)\u001b[0m\u001b[1;33m.\u001b[0m\u001b[0mndim\u001b[0m \u001b[1;33m>\u001b[0m \u001b[1;36m1\u001b[0m\u001b[1;33m:\u001b[0m\u001b[1;33m\u001b[0m\u001b[0m\n",
      "\u001b[1;32m~\\Anaconda3\\lib\\site-packages\\sklearn\\utils\\validation.py\u001b[0m in \u001b[0;36mcheck_X_y\u001b[1;34m(X, y, accept_sparse, dtype, order, copy, force_all_finite, ensure_2d, allow_nd, multi_output, ensure_min_samples, ensure_min_features, y_numeric, warn_on_dtype, estimator)\u001b[0m\n\u001b[0;32m    571\u001b[0m     X = check_array(X, accept_sparse, dtype, order, copy, force_all_finite,\n\u001b[0;32m    572\u001b[0m                     \u001b[0mensure_2d\u001b[0m\u001b[1;33m,\u001b[0m \u001b[0mallow_nd\u001b[0m\u001b[1;33m,\u001b[0m \u001b[0mensure_min_samples\u001b[0m\u001b[1;33m,\u001b[0m\u001b[1;33m\u001b[0m\u001b[0m\n\u001b[1;32m--> 573\u001b[1;33m                     ensure_min_features, warn_on_dtype, estimator)\n\u001b[0m\u001b[0;32m    574\u001b[0m     \u001b[1;32mif\u001b[0m \u001b[0mmulti_output\u001b[0m\u001b[1;33m:\u001b[0m\u001b[1;33m\u001b[0m\u001b[0m\n\u001b[0;32m    575\u001b[0m         y = check_array(y, 'csr', force_all_finite=True, ensure_2d=False,\n",
      "\u001b[1;32m~\\Anaconda3\\lib\\site-packages\\sklearn\\utils\\validation.py\u001b[0m in \u001b[0;36mcheck_array\u001b[1;34m(array, accept_sparse, dtype, order, copy, force_all_finite, ensure_2d, allow_nd, ensure_min_samples, ensure_min_features, warn_on_dtype, estimator)\u001b[0m\n\u001b[0;32m    451\u001b[0m                              % (array.ndim, estimator_name))\n\u001b[0;32m    452\u001b[0m         \u001b[1;32mif\u001b[0m \u001b[0mforce_all_finite\u001b[0m\u001b[1;33m:\u001b[0m\u001b[1;33m\u001b[0m\u001b[0m\n\u001b[1;32m--> 453\u001b[1;33m             \u001b[0m_assert_all_finite\u001b[0m\u001b[1;33m(\u001b[0m\u001b[0marray\u001b[0m\u001b[1;33m)\u001b[0m\u001b[1;33m\u001b[0m\u001b[0m\n\u001b[0m\u001b[0;32m    454\u001b[0m \u001b[1;33m\u001b[0m\u001b[0m\n\u001b[0;32m    455\u001b[0m     \u001b[0mshape_repr\u001b[0m \u001b[1;33m=\u001b[0m \u001b[0m_shape_repr\u001b[0m\u001b[1;33m(\u001b[0m\u001b[0marray\u001b[0m\u001b[1;33m.\u001b[0m\u001b[0mshape\u001b[0m\u001b[1;33m)\u001b[0m\u001b[1;33m\u001b[0m\u001b[0m\n",
      "\u001b[1;32m~\\Anaconda3\\lib\\site-packages\\sklearn\\utils\\validation.py\u001b[0m in \u001b[0;36m_assert_all_finite\u001b[1;34m(X)\u001b[0m\n\u001b[0;32m     42\u001b[0m             and not np.isfinite(X).all()):\n\u001b[0;32m     43\u001b[0m         raise ValueError(\"Input contains NaN, infinity\"\n\u001b[1;32m---> 44\u001b[1;33m                          \" or a value too large for %r.\" % X.dtype)\n\u001b[0m\u001b[0;32m     45\u001b[0m \u001b[1;33m\u001b[0m\u001b[0m\n\u001b[0;32m     46\u001b[0m \u001b[1;33m\u001b[0m\u001b[0m\n",
      "\u001b[1;31mValueError\u001b[0m: Input contains NaN, infinity or a value too large for dtype('float64')."
     ]
    }
   ],
   "source": []
  },
  {
   "cell_type": "markdown",
   "metadata": {},
   "source": [
    "## Khảo sát sự ảnh hưởng của tham số đối với mô hình Neural Network Regressor"
   ]
  },
  {
   "cell_type": "markdown",
   "metadata": {},
   "source": [
    "Ở đây, ta sẽ sử dụng mô hình Neural Network để huấn luyện mô hình với các tham số như đã nêu."
   ]
  },
  {
   "cell_type": "markdown",
   "metadata": {},
   "source": [
    "Đầu tiên, ta sẽ giữ số node là 100 là thay đổi số tầng ẩn từ 1 đến 5 để xem sự thay đổi của MSE. Ta sẽ giữ nguyên learning rate = 0.001 và weight decay = 0.0001"
   ]
  },
  {
   "cell_type": "code",
   "execution_count": 52,
   "metadata": {},
   "outputs": [
    {
     "ename": "ValueError",
     "evalue": "Input contains NaN, infinity or a value too large for dtype('float64').",
     "output_type": "error",
     "traceback": [
      "\u001b[1;31m---------------------------------------------------------------------------\u001b[0m",
      "\u001b[1;31mValueError\u001b[0m                                Traceback (most recent call last)",
      "\u001b[1;32m<ipython-input-52-b3d5e205bb72>\u001b[0m in \u001b[0;36m<module>\u001b[1;34m()\u001b[0m\n\u001b[0;32m      3\u001b[0m \u001b[0mhidden_layer\u001b[0m \u001b[1;33m=\u001b[0m \u001b[1;33m[\u001b[0m\u001b[1;36m1\u001b[0m\u001b[1;33m,\u001b[0m\u001b[1;36m2\u001b[0m\u001b[1;33m,\u001b[0m\u001b[1;36m3\u001b[0m\u001b[1;33m,\u001b[0m\u001b[1;36m4\u001b[0m\u001b[1;33m,\u001b[0m\u001b[1;36m5\u001b[0m\u001b[1;33m]\u001b[0m\u001b[1;33m\u001b[0m\u001b[0m\n\u001b[0;32m      4\u001b[0m \u001b[1;31m# 1 tầng ẩn\u001b[0m\u001b[1;33m\u001b[0m\u001b[1;33m\u001b[0m\u001b[0m\n\u001b[1;32m----> 5\u001b[1;33m \u001b[0mMSE_train_NNR_1\u001b[0m\u001b[1;33m,\u001b[0m \u001b[0mMSE_val_NNR_1\u001b[0m \u001b[1;33m=\u001b[0m \u001b[0mtrain_NNR\u001b[0m\u001b[1;33m(\u001b[0m\u001b[1;33m(\u001b[0m\u001b[1;36m100\u001b[0m\u001b[1;33m)\u001b[0m\u001b[1;33m,\u001b[0m \u001b[1;36m0.001\u001b[0m\u001b[1;33m,\u001b[0m \u001b[1;36m0.0001\u001b[0m\u001b[1;33m)\u001b[0m\u001b[1;33m\u001b[0m\u001b[0m\n\u001b[0m\u001b[0;32m      6\u001b[0m \u001b[0mprint\u001b[0m\u001b[1;33m(\u001b[0m\u001b[0mMSE_train_NNR_1\u001b[0m\u001b[1;33m,\u001b[0m \u001b[0mMSE_val_NNR_1\u001b[0m\u001b[1;33m)\u001b[0m\u001b[1;33m\u001b[0m\u001b[0m\n\u001b[0;32m      7\u001b[0m \u001b[1;33m\u001b[0m\u001b[0m\n",
      "\u001b[1;32m<ipython-input-44-5d01ba105347>\u001b[0m in \u001b[0;36mtrain_NNR\u001b[1;34m(hidden_layer, learning_rate, wd)\u001b[0m\n\u001b[0;32m      2\u001b[0m     \u001b[0mNNR\u001b[0m \u001b[1;33m=\u001b[0m \u001b[0mMLPRegressor\u001b[0m\u001b[1;33m(\u001b[0m\u001b[0mactivation\u001b[0m\u001b[1;33m=\u001b[0m\u001b[1;34m'logistic'\u001b[0m\u001b[1;33m,\u001b[0m \u001b[0msolver\u001b[0m\u001b[1;33m=\u001b[0m\u001b[1;34m'sgd'\u001b[0m\u001b[1;33m,\u001b[0m \u001b[0mrandom_state\u001b[0m\u001b[1;33m=\u001b[0m\u001b[1;36m0\u001b[0m\u001b[1;33m,\u001b[0m \u001b[0mhidden_layer_sizes\u001b[0m\u001b[1;33m=\u001b[0m\u001b[0mhidden_layer\u001b[0m\u001b[1;33m,\u001b[0m \u001b[0mlearning_rate_init\u001b[0m\u001b[1;33m=\u001b[0m\u001b[0mlearning_rate\u001b[0m\u001b[1;33m,\u001b[0m \u001b[0mmax_iter\u001b[0m\u001b[1;33m=\u001b[0m\u001b[1;36m10000\u001b[0m\u001b[1;33m,\u001b[0m \u001b[0malpha\u001b[0m\u001b[1;33m=\u001b[0m\u001b[0mwd\u001b[0m\u001b[1;33m)\u001b[0m\u001b[1;33m\u001b[0m\u001b[0m\n\u001b[0;32m      3\u001b[0m \u001b[1;33m\u001b[0m\u001b[0m\n\u001b[1;32m----> 4\u001b[1;33m     \u001b[0mNNR\u001b[0m\u001b[1;33m.\u001b[0m\u001b[0mfit\u001b[0m\u001b[1;33m(\u001b[0m\u001b[0mtrain_X\u001b[0m\u001b[1;33m,\u001b[0m \u001b[0mtrain_Y\u001b[0m\u001b[1;33m)\u001b[0m\u001b[1;33m\u001b[0m\u001b[0m\n\u001b[0m\u001b[0;32m      5\u001b[0m \u001b[1;33m\u001b[0m\u001b[0m\n\u001b[0;32m      6\u001b[0m     \u001b[1;32mreturn\u001b[0m \u001b[0mmean_squared_error\u001b[0m\u001b[1;33m(\u001b[0m\u001b[0mtrain_Y\u001b[0m\u001b[1;33m,\u001b[0m \u001b[0mNNR\u001b[0m\u001b[1;33m.\u001b[0m\u001b[0mpredict\u001b[0m\u001b[1;33m(\u001b[0m\u001b[0mtrain_X\u001b[0m\u001b[1;33m)\u001b[0m\u001b[1;33m)\u001b[0m\u001b[1;33m,\u001b[0m \u001b[0mmean_squared_error\u001b[0m\u001b[1;33m(\u001b[0m\u001b[0mval_Y\u001b[0m\u001b[1;33m,\u001b[0m \u001b[0mNNR\u001b[0m\u001b[1;33m.\u001b[0m\u001b[0mpredict\u001b[0m\u001b[1;33m(\u001b[0m\u001b[0mval_X\u001b[0m\u001b[1;33m)\u001b[0m\u001b[1;33m)\u001b[0m\u001b[1;33m\u001b[0m\u001b[0m\n",
      "\u001b[1;32m~\\Anaconda3\\lib\\site-packages\\sklearn\\neural_network\\multilayer_perceptron.py\u001b[0m in \u001b[0;36mfit\u001b[1;34m(self, X, y)\u001b[0m\n\u001b[0;32m    618\u001b[0m         \u001b[0mself\u001b[0m \u001b[1;33m:\u001b[0m \u001b[0mreturns\u001b[0m \u001b[0ma\u001b[0m \u001b[0mtrained\u001b[0m \u001b[0mMLP\u001b[0m \u001b[0mmodel\u001b[0m\u001b[1;33m.\u001b[0m\u001b[1;33m\u001b[0m\u001b[0m\n\u001b[0;32m    619\u001b[0m         \"\"\"\n\u001b[1;32m--> 620\u001b[1;33m         \u001b[1;32mreturn\u001b[0m \u001b[0mself\u001b[0m\u001b[1;33m.\u001b[0m\u001b[0m_fit\u001b[0m\u001b[1;33m(\u001b[0m\u001b[0mX\u001b[0m\u001b[1;33m,\u001b[0m \u001b[0my\u001b[0m\u001b[1;33m,\u001b[0m \u001b[0mincremental\u001b[0m\u001b[1;33m=\u001b[0m\u001b[1;32mFalse\u001b[0m\u001b[1;33m)\u001b[0m\u001b[1;33m\u001b[0m\u001b[0m\n\u001b[0m\u001b[0;32m    621\u001b[0m \u001b[1;33m\u001b[0m\u001b[0m\n\u001b[0;32m    622\u001b[0m     \u001b[1;33m@\u001b[0m\u001b[0mproperty\u001b[0m\u001b[1;33m\u001b[0m\u001b[0m\n",
      "\u001b[1;32m~\\Anaconda3\\lib\\site-packages\\sklearn\\neural_network\\multilayer_perceptron.py\u001b[0m in \u001b[0;36m_fit\u001b[1;34m(self, X, y, incremental)\u001b[0m\n\u001b[0;32m    329\u001b[0m                              hidden_layer_sizes)\n\u001b[0;32m    330\u001b[0m \u001b[1;33m\u001b[0m\u001b[0m\n\u001b[1;32m--> 331\u001b[1;33m         \u001b[0mX\u001b[0m\u001b[1;33m,\u001b[0m \u001b[0my\u001b[0m \u001b[1;33m=\u001b[0m \u001b[0mself\u001b[0m\u001b[1;33m.\u001b[0m\u001b[0m_validate_input\u001b[0m\u001b[1;33m(\u001b[0m\u001b[0mX\u001b[0m\u001b[1;33m,\u001b[0m \u001b[0my\u001b[0m\u001b[1;33m,\u001b[0m \u001b[0mincremental\u001b[0m\u001b[1;33m)\u001b[0m\u001b[1;33m\u001b[0m\u001b[0m\n\u001b[0m\u001b[0;32m    332\u001b[0m         \u001b[0mn_samples\u001b[0m\u001b[1;33m,\u001b[0m \u001b[0mn_features\u001b[0m \u001b[1;33m=\u001b[0m \u001b[0mX\u001b[0m\u001b[1;33m.\u001b[0m\u001b[0mshape\u001b[0m\u001b[1;33m\u001b[0m\u001b[0m\n\u001b[0;32m    333\u001b[0m \u001b[1;33m\u001b[0m\u001b[0m\n",
      "\u001b[1;32m~\\Anaconda3\\lib\\site-packages\\sklearn\\neural_network\\multilayer_perceptron.py\u001b[0m in \u001b[0;36m_validate_input\u001b[1;34m(self, X, y, incremental)\u001b[0m\n\u001b[0;32m   1302\u001b[0m     \u001b[1;32mdef\u001b[0m \u001b[0m_validate_input\u001b[0m\u001b[1;33m(\u001b[0m\u001b[0mself\u001b[0m\u001b[1;33m,\u001b[0m \u001b[0mX\u001b[0m\u001b[1;33m,\u001b[0m \u001b[0my\u001b[0m\u001b[1;33m,\u001b[0m \u001b[0mincremental\u001b[0m\u001b[1;33m)\u001b[0m\u001b[1;33m:\u001b[0m\u001b[1;33m\u001b[0m\u001b[0m\n\u001b[0;32m   1303\u001b[0m         X, y = check_X_y(X, y, accept_sparse=['csr', 'csc', 'coo'],\n\u001b[1;32m-> 1304\u001b[1;33m                          multi_output=True, y_numeric=True)\n\u001b[0m\u001b[0;32m   1305\u001b[0m         \u001b[1;32mif\u001b[0m \u001b[0my\u001b[0m\u001b[1;33m.\u001b[0m\u001b[0mndim\u001b[0m \u001b[1;33m==\u001b[0m \u001b[1;36m2\u001b[0m \u001b[1;32mand\u001b[0m \u001b[0my\u001b[0m\u001b[1;33m.\u001b[0m\u001b[0mshape\u001b[0m\u001b[1;33m[\u001b[0m\u001b[1;36m1\u001b[0m\u001b[1;33m]\u001b[0m \u001b[1;33m==\u001b[0m \u001b[1;36m1\u001b[0m\u001b[1;33m:\u001b[0m\u001b[1;33m\u001b[0m\u001b[0m\n\u001b[0;32m   1306\u001b[0m             \u001b[0my\u001b[0m \u001b[1;33m=\u001b[0m \u001b[0mcolumn_or_1d\u001b[0m\u001b[1;33m(\u001b[0m\u001b[0my\u001b[0m\u001b[1;33m,\u001b[0m \u001b[0mwarn\u001b[0m\u001b[1;33m=\u001b[0m\u001b[1;32mTrue\u001b[0m\u001b[1;33m)\u001b[0m\u001b[1;33m\u001b[0m\u001b[0m\n",
      "\u001b[1;32m~\\Anaconda3\\lib\\site-packages\\sklearn\\utils\\validation.py\u001b[0m in \u001b[0;36mcheck_X_y\u001b[1;34m(X, y, accept_sparse, dtype, order, copy, force_all_finite, ensure_2d, allow_nd, multi_output, ensure_min_samples, ensure_min_features, y_numeric, warn_on_dtype, estimator)\u001b[0m\n\u001b[0;32m    571\u001b[0m     X = check_array(X, accept_sparse, dtype, order, copy, force_all_finite,\n\u001b[0;32m    572\u001b[0m                     \u001b[0mensure_2d\u001b[0m\u001b[1;33m,\u001b[0m \u001b[0mallow_nd\u001b[0m\u001b[1;33m,\u001b[0m \u001b[0mensure_min_samples\u001b[0m\u001b[1;33m,\u001b[0m\u001b[1;33m\u001b[0m\u001b[0m\n\u001b[1;32m--> 573\u001b[1;33m                     ensure_min_features, warn_on_dtype, estimator)\n\u001b[0m\u001b[0;32m    574\u001b[0m     \u001b[1;32mif\u001b[0m \u001b[0mmulti_output\u001b[0m\u001b[1;33m:\u001b[0m\u001b[1;33m\u001b[0m\u001b[0m\n\u001b[0;32m    575\u001b[0m         y = check_array(y, 'csr', force_all_finite=True, ensure_2d=False,\n",
      "\u001b[1;32m~\\Anaconda3\\lib\\site-packages\\sklearn\\utils\\validation.py\u001b[0m in \u001b[0;36mcheck_array\u001b[1;34m(array, accept_sparse, dtype, order, copy, force_all_finite, ensure_2d, allow_nd, ensure_min_samples, ensure_min_features, warn_on_dtype, estimator)\u001b[0m\n\u001b[0;32m    451\u001b[0m                              % (array.ndim, estimator_name))\n\u001b[0;32m    452\u001b[0m         \u001b[1;32mif\u001b[0m \u001b[0mforce_all_finite\u001b[0m\u001b[1;33m:\u001b[0m\u001b[1;33m\u001b[0m\u001b[0m\n\u001b[1;32m--> 453\u001b[1;33m             \u001b[0m_assert_all_finite\u001b[0m\u001b[1;33m(\u001b[0m\u001b[0marray\u001b[0m\u001b[1;33m)\u001b[0m\u001b[1;33m\u001b[0m\u001b[0m\n\u001b[0m\u001b[0;32m    454\u001b[0m \u001b[1;33m\u001b[0m\u001b[0m\n\u001b[0;32m    455\u001b[0m     \u001b[0mshape_repr\u001b[0m \u001b[1;33m=\u001b[0m \u001b[0m_shape_repr\u001b[0m\u001b[1;33m(\u001b[0m\u001b[0marray\u001b[0m\u001b[1;33m.\u001b[0m\u001b[0mshape\u001b[0m\u001b[1;33m)\u001b[0m\u001b[1;33m\u001b[0m\u001b[0m\n",
      "\u001b[1;32m~\\Anaconda3\\lib\\site-packages\\sklearn\\utils\\validation.py\u001b[0m in \u001b[0;36m_assert_all_finite\u001b[1;34m(X)\u001b[0m\n\u001b[0;32m     42\u001b[0m             and not np.isfinite(X).all()):\n\u001b[0;32m     43\u001b[0m         raise ValueError(\"Input contains NaN, infinity\"\n\u001b[1;32m---> 44\u001b[1;33m                          \" or a value too large for %r.\" % X.dtype)\n\u001b[0m\u001b[0;32m     45\u001b[0m \u001b[1;33m\u001b[0m\u001b[0m\n\u001b[0;32m     46\u001b[0m \u001b[1;33m\u001b[0m\u001b[0m\n",
      "\u001b[1;31mValueError\u001b[0m: Input contains NaN, infinity or a value too large for dtype('float64')."
     ]
    }
   ],
   "source": [
    "MSE_train_NNR = [] \n",
    "MSE_val_NNR = []\n",
    "hidden_layer = [1,2,3,4,5]\n",
    "# 1 tầng ẩn\n",
    "MSE_train_NNR_1, MSE_val_NNR_1 = train_NNR((100), 0.001, 0.0001)\n",
    "print(MSE_train_NNR_1, MSE_val_NNR_1)\n",
    "\n",
    "MSE_train_NNR.append(MSE_train_NNR_1)\n",
    "MSE_val_NNR.append(MSE_val_NNR_1)\n",
    "\n",
    "# 2 tầng ẩn\n",
    "MSE_train_NNR_2, MSE_val_NNR_2 = train_NNR((100, 100), 0.001, 0.0001)\n",
    "print(MSE_train_NNR_2, MSE_val_NNR_2)\n",
    "\n",
    "MSE_train_NNR.append(MSE_train_NNR_2)\n",
    "MSE_val_NNR.append(MSE_val_NNR_2)\n",
    "\n",
    "# 3 tầng ẩn\n",
    "MSE_train_NNR_3, MSE_val_NNR_3 = train_NNR((100, 100, 100), 0.001, 0.0001)\n",
    "print (MSE_train_NNR_3, MSE_val_NNR_3)\n",
    "\n",
    "MSE_train_NNR.append(MSE_train_NNR_3)\n",
    "MSE_val_NNR.append(MSE_val_NNR_3)\n",
    "\n",
    "# 4 tầng ẩn\n",
    "MSE_train_NNR_4, MSE_val_NNR_4 = train_NNR((100, 100, 100, 100), 0.001, 0.0001)\n",
    "print(MSE_train_NNR_4, MSE_val_NNR_4)\n",
    "\n",
    "MSE_train_NNR.append(MSE_train_NNR_4)\n",
    "MSE_val_NNR.append(MSE_val_NNR_4)\n",
    "\n",
    "# 5 tầng ẩn\n",
    "MSE_train_NNR_5, MSE_val_NNR_5 = train_NNR((100, 100, 100, 100, 100), 0.001, 0.0001)\n",
    "print(MSE_train_NNR_5, MSE_val_NNR_5)\n",
    "\n",
    "MSE_train_NNR.append(MSE_train_NNR_5)\n",
    "MSE_val_NNR.append(MSE_val_NNR_5)"
   ]
  },
  {
   "cell_type": "markdown",
   "metadata": {},
   "source": [
    "### Minh họa kết quả thay đổi số tầng ẩn"
   ]
  },
  {
   "cell_type": "code",
   "execution_count": 53,
   "metadata": {},
   "outputs": [
    {
     "ename": "ValueError",
     "evalue": "x and y must have same first dimension, but have shapes (5,) and (0,)",
     "output_type": "error",
     "traceback": [
      "\u001b[1;31m---------------------------------------------------------------------------\u001b[0m",
      "\u001b[1;31mValueError\u001b[0m                                Traceback (most recent call last)",
      "\u001b[1;32m<ipython-input-53-43a3eb411cfb>\u001b[0m in \u001b[0;36m<module>\u001b[1;34m()\u001b[0m\n\u001b[0;32m      1\u001b[0m \u001b[0mplt\u001b[0m\u001b[1;33m.\u001b[0m\u001b[0mfigure\u001b[0m\u001b[1;33m(\u001b[0m\u001b[0mfigsize\u001b[0m\u001b[1;33m=\u001b[0m\u001b[1;33m(\u001b[0m\u001b[1;36m14\u001b[0m\u001b[1;33m,\u001b[0m\u001b[1;36m10\u001b[0m\u001b[1;33m)\u001b[0m\u001b[1;33m)\u001b[0m\u001b[1;33m\u001b[0m\u001b[0m\n\u001b[0;32m      2\u001b[0m \u001b[0mplt\u001b[0m\u001b[1;33m.\u001b[0m\u001b[0msubplot\u001b[0m\u001b[1;33m(\u001b[0m\u001b[1;36m2\u001b[0m\u001b[1;33m,\u001b[0m \u001b[1;36m3\u001b[0m\u001b[1;33m,\u001b[0m \u001b[1;36m1\u001b[0m\u001b[1;33m)\u001b[0m\u001b[1;33m\u001b[0m\u001b[0m\n\u001b[1;32m----> 3\u001b[1;33m \u001b[0mplt\u001b[0m\u001b[1;33m.\u001b[0m\u001b[0mplot\u001b[0m\u001b[1;33m(\u001b[0m\u001b[0mhidden_layer\u001b[0m\u001b[1;33m,\u001b[0m \u001b[0mMSE_train_NNR\u001b[0m\u001b[1;33m,\u001b[0m \u001b[1;34m'r'\u001b[0m\u001b[1;33m,\u001b[0m \u001b[0mlabel\u001b[0m\u001b[1;33m=\u001b[0m\u001b[1;34m'MSE_train_NNR'\u001b[0m\u001b[1;33m)\u001b[0m\u001b[1;33m\u001b[0m\u001b[0m\n\u001b[0m\u001b[0;32m      4\u001b[0m \u001b[0mplt\u001b[0m\u001b[1;33m.\u001b[0m\u001b[0mplot\u001b[0m\u001b[1;33m(\u001b[0m\u001b[0mhidden_layer\u001b[0m\u001b[1;33m,\u001b[0m \u001b[0mMSE_val_NNR\u001b[0m\u001b[1;33m,\u001b[0m\u001b[1;34m'r--'\u001b[0m\u001b[1;33m,\u001b[0m \u001b[0mlabel\u001b[0m\u001b[1;33m=\u001b[0m\u001b[1;34m'MSE_val_NNR'\u001b[0m\u001b[1;33m)\u001b[0m\u001b[1;33m\u001b[0m\u001b[0m\n\u001b[0;32m      5\u001b[0m \u001b[0mplt\u001b[0m\u001b[1;33m.\u001b[0m\u001b[0mxlabel\u001b[0m\u001b[1;33m(\u001b[0m\u001b[1;34m'hidden_layer'\u001b[0m\u001b[1;33m)\u001b[0m\u001b[1;33m\u001b[0m\u001b[0m\n",
      "\u001b[1;32m~\\Anaconda3\\lib\\site-packages\\matplotlib\\pyplot.py\u001b[0m in \u001b[0;36mplot\u001b[1;34m(*args, **kwargs)\u001b[0m\n\u001b[0;32m   3361\u001b[0m                       mplDeprecation)\n\u001b[0;32m   3362\u001b[0m     \u001b[1;32mtry\u001b[0m\u001b[1;33m:\u001b[0m\u001b[1;33m\u001b[0m\u001b[0m\n\u001b[1;32m-> 3363\u001b[1;33m         \u001b[0mret\u001b[0m \u001b[1;33m=\u001b[0m \u001b[0max\u001b[0m\u001b[1;33m.\u001b[0m\u001b[0mplot\u001b[0m\u001b[1;33m(\u001b[0m\u001b[1;33m*\u001b[0m\u001b[0margs\u001b[0m\u001b[1;33m,\u001b[0m \u001b[1;33m**\u001b[0m\u001b[0mkwargs\u001b[0m\u001b[1;33m)\u001b[0m\u001b[1;33m\u001b[0m\u001b[0m\n\u001b[0m\u001b[0;32m   3364\u001b[0m     \u001b[1;32mfinally\u001b[0m\u001b[1;33m:\u001b[0m\u001b[1;33m\u001b[0m\u001b[0m\n\u001b[0;32m   3365\u001b[0m         \u001b[0max\u001b[0m\u001b[1;33m.\u001b[0m\u001b[0m_hold\u001b[0m \u001b[1;33m=\u001b[0m \u001b[0mwashold\u001b[0m\u001b[1;33m\u001b[0m\u001b[0m\n",
      "\u001b[1;32m~\\Anaconda3\\lib\\site-packages\\matplotlib\\__init__.py\u001b[0m in \u001b[0;36minner\u001b[1;34m(ax, *args, **kwargs)\u001b[0m\n\u001b[0;32m   1865\u001b[0m                         \u001b[1;34m\"the Matplotlib list!)\"\u001b[0m \u001b[1;33m%\u001b[0m \u001b[1;33m(\u001b[0m\u001b[0mlabel_namer\u001b[0m\u001b[1;33m,\u001b[0m \u001b[0mfunc\u001b[0m\u001b[1;33m.\u001b[0m\u001b[0m__name__\u001b[0m\u001b[1;33m)\u001b[0m\u001b[1;33m,\u001b[0m\u001b[1;33m\u001b[0m\u001b[0m\n\u001b[0;32m   1866\u001b[0m                         RuntimeWarning, stacklevel=2)\n\u001b[1;32m-> 1867\u001b[1;33m             \u001b[1;32mreturn\u001b[0m \u001b[0mfunc\u001b[0m\u001b[1;33m(\u001b[0m\u001b[0max\u001b[0m\u001b[1;33m,\u001b[0m \u001b[1;33m*\u001b[0m\u001b[0margs\u001b[0m\u001b[1;33m,\u001b[0m \u001b[1;33m**\u001b[0m\u001b[0mkwargs\u001b[0m\u001b[1;33m)\u001b[0m\u001b[1;33m\u001b[0m\u001b[0m\n\u001b[0m\u001b[0;32m   1868\u001b[0m \u001b[1;33m\u001b[0m\u001b[0m\n\u001b[0;32m   1869\u001b[0m         inner.__doc__ = _add_data_doc(inner.__doc__,\n",
      "\u001b[1;32m~\\Anaconda3\\lib\\site-packages\\matplotlib\\axes\\_axes.py\u001b[0m in \u001b[0;36mplot\u001b[1;34m(self, *args, **kwargs)\u001b[0m\n\u001b[0;32m   1526\u001b[0m         \u001b[0mkwargs\u001b[0m \u001b[1;33m=\u001b[0m \u001b[0mcbook\u001b[0m\u001b[1;33m.\u001b[0m\u001b[0mnormalize_kwargs\u001b[0m\u001b[1;33m(\u001b[0m\u001b[0mkwargs\u001b[0m\u001b[1;33m,\u001b[0m \u001b[0m_alias_map\u001b[0m\u001b[1;33m)\u001b[0m\u001b[1;33m\u001b[0m\u001b[0m\n\u001b[0;32m   1527\u001b[0m \u001b[1;33m\u001b[0m\u001b[0m\n\u001b[1;32m-> 1528\u001b[1;33m         \u001b[1;32mfor\u001b[0m \u001b[0mline\u001b[0m \u001b[1;32min\u001b[0m \u001b[0mself\u001b[0m\u001b[1;33m.\u001b[0m\u001b[0m_get_lines\u001b[0m\u001b[1;33m(\u001b[0m\u001b[1;33m*\u001b[0m\u001b[0margs\u001b[0m\u001b[1;33m,\u001b[0m \u001b[1;33m**\u001b[0m\u001b[0mkwargs\u001b[0m\u001b[1;33m)\u001b[0m\u001b[1;33m:\u001b[0m\u001b[1;33m\u001b[0m\u001b[0m\n\u001b[0m\u001b[0;32m   1529\u001b[0m             \u001b[0mself\u001b[0m\u001b[1;33m.\u001b[0m\u001b[0madd_line\u001b[0m\u001b[1;33m(\u001b[0m\u001b[0mline\u001b[0m\u001b[1;33m)\u001b[0m\u001b[1;33m\u001b[0m\u001b[0m\n\u001b[0;32m   1530\u001b[0m             \u001b[0mlines\u001b[0m\u001b[1;33m.\u001b[0m\u001b[0mappend\u001b[0m\u001b[1;33m(\u001b[0m\u001b[0mline\u001b[0m\u001b[1;33m)\u001b[0m\u001b[1;33m\u001b[0m\u001b[0m\n",
      "\u001b[1;32m~\\Anaconda3\\lib\\site-packages\\matplotlib\\axes\\_base.py\u001b[0m in \u001b[0;36m_grab_next_args\u001b[1;34m(self, *args, **kwargs)\u001b[0m\n\u001b[0;32m    404\u001b[0m                 \u001b[0mthis\u001b[0m \u001b[1;33m+=\u001b[0m \u001b[0margs\u001b[0m\u001b[1;33m[\u001b[0m\u001b[1;36m0\u001b[0m\u001b[1;33m]\u001b[0m\u001b[1;33m,\u001b[0m\u001b[1;33m\u001b[0m\u001b[0m\n\u001b[0;32m    405\u001b[0m                 \u001b[0margs\u001b[0m \u001b[1;33m=\u001b[0m \u001b[0margs\u001b[0m\u001b[1;33m[\u001b[0m\u001b[1;36m1\u001b[0m\u001b[1;33m:\u001b[0m\u001b[1;33m]\u001b[0m\u001b[1;33m\u001b[0m\u001b[0m\n\u001b[1;32m--> 406\u001b[1;33m             \u001b[1;32mfor\u001b[0m \u001b[0mseg\u001b[0m \u001b[1;32min\u001b[0m \u001b[0mself\u001b[0m\u001b[1;33m.\u001b[0m\u001b[0m_plot_args\u001b[0m\u001b[1;33m(\u001b[0m\u001b[0mthis\u001b[0m\u001b[1;33m,\u001b[0m \u001b[0mkwargs\u001b[0m\u001b[1;33m)\u001b[0m\u001b[1;33m:\u001b[0m\u001b[1;33m\u001b[0m\u001b[0m\n\u001b[0m\u001b[0;32m    407\u001b[0m                 \u001b[1;32myield\u001b[0m \u001b[0mseg\u001b[0m\u001b[1;33m\u001b[0m\u001b[0m\n\u001b[0;32m    408\u001b[0m \u001b[1;33m\u001b[0m\u001b[0m\n",
      "\u001b[1;32m~\\Anaconda3\\lib\\site-packages\\matplotlib\\axes\\_base.py\u001b[0m in \u001b[0;36m_plot_args\u001b[1;34m(self, tup, kwargs)\u001b[0m\n\u001b[0;32m    381\u001b[0m             \u001b[0mx\u001b[0m\u001b[1;33m,\u001b[0m \u001b[0my\u001b[0m \u001b[1;33m=\u001b[0m \u001b[0mindex_of\u001b[0m\u001b[1;33m(\u001b[0m\u001b[0mtup\u001b[0m\u001b[1;33m[\u001b[0m\u001b[1;33m-\u001b[0m\u001b[1;36m1\u001b[0m\u001b[1;33m]\u001b[0m\u001b[1;33m)\u001b[0m\u001b[1;33m\u001b[0m\u001b[0m\n\u001b[0;32m    382\u001b[0m \u001b[1;33m\u001b[0m\u001b[0m\n\u001b[1;32m--> 383\u001b[1;33m         \u001b[0mx\u001b[0m\u001b[1;33m,\u001b[0m \u001b[0my\u001b[0m \u001b[1;33m=\u001b[0m \u001b[0mself\u001b[0m\u001b[1;33m.\u001b[0m\u001b[0m_xy_from_xy\u001b[0m\u001b[1;33m(\u001b[0m\u001b[0mx\u001b[0m\u001b[1;33m,\u001b[0m \u001b[0my\u001b[0m\u001b[1;33m)\u001b[0m\u001b[1;33m\u001b[0m\u001b[0m\n\u001b[0m\u001b[0;32m    384\u001b[0m \u001b[1;33m\u001b[0m\u001b[0m\n\u001b[0;32m    385\u001b[0m         \u001b[1;32mif\u001b[0m \u001b[0mself\u001b[0m\u001b[1;33m.\u001b[0m\u001b[0mcommand\u001b[0m \u001b[1;33m==\u001b[0m \u001b[1;34m'plot'\u001b[0m\u001b[1;33m:\u001b[0m\u001b[1;33m\u001b[0m\u001b[0m\n",
      "\u001b[1;32m~\\Anaconda3\\lib\\site-packages\\matplotlib\\axes\\_base.py\u001b[0m in \u001b[0;36m_xy_from_xy\u001b[1;34m(self, x, y)\u001b[0m\n\u001b[0;32m    240\u001b[0m         \u001b[1;32mif\u001b[0m \u001b[0mx\u001b[0m\u001b[1;33m.\u001b[0m\u001b[0mshape\u001b[0m\u001b[1;33m[\u001b[0m\u001b[1;36m0\u001b[0m\u001b[1;33m]\u001b[0m \u001b[1;33m!=\u001b[0m \u001b[0my\u001b[0m\u001b[1;33m.\u001b[0m\u001b[0mshape\u001b[0m\u001b[1;33m[\u001b[0m\u001b[1;36m0\u001b[0m\u001b[1;33m]\u001b[0m\u001b[1;33m:\u001b[0m\u001b[1;33m\u001b[0m\u001b[0m\n\u001b[0;32m    241\u001b[0m             raise ValueError(\"x and y must have same first dimension, but \"\n\u001b[1;32m--> 242\u001b[1;33m                              \"have shapes {} and {}\".format(x.shape, y.shape))\n\u001b[0m\u001b[0;32m    243\u001b[0m         \u001b[1;32mif\u001b[0m \u001b[0mx\u001b[0m\u001b[1;33m.\u001b[0m\u001b[0mndim\u001b[0m \u001b[1;33m>\u001b[0m \u001b[1;36m2\u001b[0m \u001b[1;32mor\u001b[0m \u001b[0my\u001b[0m\u001b[1;33m.\u001b[0m\u001b[0mndim\u001b[0m \u001b[1;33m>\u001b[0m \u001b[1;36m2\u001b[0m\u001b[1;33m:\u001b[0m\u001b[1;33m\u001b[0m\u001b[0m\n\u001b[0;32m    244\u001b[0m             raise ValueError(\"x and y can be no greater than 2-D, but have \"\n",
      "\u001b[1;31mValueError\u001b[0m: x and y must have same first dimension, but have shapes (5,) and (0,)"
     ]
    },
    {
     "data": {
      "image/png": "[encoded data removed]",
      "text/plain": [
       "<Figure size 1008x720 with 1 Axes>"
      ]
     },
     "metadata": {
      "needs_background": "light"
     },
     "output_type": "display_data"
    }
   ],
   "source": [
    "plt.figure(figsize=(14,10))\n",
    "plt.subplot(2, 3, 1)\n",
    "plt.plot(hidden_layer, MSE_train_NNR, 'r', label='MSE_train_NNR')\n",
    "plt.plot(hidden_layer, MSE_val_NNR,'r--', label='MSE_val_NNR')\n",
    "plt.xlabel('hidden_layer')\n",
    "plt.ylabel('MSE')\n",
    "plt.legend(loc='best')"
   ]
  },
  {
   "cell_type": "markdown",
   "metadata": {},
   "source": [
    "Qua những số liệu trên, ở trường hợp này ta thấy việc thay đổi số tầng ẩn chưa hẳn là tốt, từ 3 tầng trở lên độ lỗi cao. Vì vậy, ta có thể sử dụng 2 tầng ẩn (có MSE val tốt nhất) cho việc huấn luyện sau này."
   ]
  },
  {
   "cell_type": "markdown",
   "metadata": {},
   "source": [
    "Tiếp theo, ta sẽ thay đổi số node trên từng tầng ẩn từ 100 đến 1000 để xem MSE val sẽ thay đổi thế nào."
   ]
  },
  {
   "cell_type": "code",
   "execution_count": 41,
   "metadata": {},
   "outputs": [
    {
     "name": "stdout",
     "output_type": "stream",
     "text": [
      "100 0.784032777261 1.06416773095\n",
      "200 0.795430460041 1.07640133887\n",
      "300 0.815214380172 1.09216089736\n",
      "400 0.811349099518 1.11351172966\n",
      "500 1.08923565408 1.23653198307\n",
      "600 1.06132326026 1.21112648082\n",
      "700 1.0894514637 1.23043963974\n",
      "800 1.09127484072 1.23141103171\n",
      "900 1.09043195079 1.23306057414\n",
      "1000 1.09482749311 1.23231876558\n"
     ]
    }
   ],
   "source": [
    "# 1 tầng ẩn với số node thay đổi\n",
    "MSE_train_NNRs = [] \n",
    "MSE_val_NNRs = []\n",
    "Node = []\n",
    "\n",
    "for node in range(100, 1100, 100):\n",
    "    MSE_train_NNR, MSE_val_NNR = train_NNR((node, node), 0.001, 0.0001)\n",
    "    print node, MSE_train_NNR, MSE_val_NNR\n",
    "    Node.append(node)\n",
    "    MSE_train_NNRs.append(MSE_train_NNR)\n",
    "    MSE_val_NNRs.append(MSE_val_NNR)"
   ]
  },
  {
   "cell_type": "markdown",
   "metadata": {},
   "source": [
    "## Minh họa kết quả thay đổi số node"
   ]
  },
  {
   "cell_type": "code",
   "execution_count": 42,
   "metadata": {},
   "outputs": [
    {
     "data": {
      "text/plain": [
       "<matplotlib.legend.Legend at 0x11e80748>"
      ]
     },
     "execution_count": 42,
     "metadata": {},
     "output_type": "execute_result"
    },
    {
     "data": {
      "image/png": "[encoded data removed]",
      "text/plain": [
       "<matplotlib.figure.Figure at 0xf9cf080>"
      ]
     },
     "metadata": {},
     "output_type": "display_data"
    }
   ],
   "source": [
    "plt.figure(figsize=(14,10))\n",
    "plt.subplot(2, 3, 2)\n",
    "plt.plot(Node, MSE_train_NNRs, 'r', label='MSE_train_NNR')\n",
    "plt.plot(Node, MSE_val_NNRs,'r--', label='MSE_val_NNR')\n",
    "plt.xlabel('Node')\n",
    "plt.ylabel('MSE')\n",
    "plt.legend(loc='best')"
   ]
  },
  {
   "cell_type": "markdown",
   "metadata": {},
   "source": [
    "Qua những kết quả trên, ta có thể thấy số node càng cao không có nghĩa là độ lỗi sẽ càng nhỏ, không những thế, càng tăng số node thì độ lỗi có vẻ sẽ càng tăng cao hơn nữa. Vì vậy, ta sẽ chọn 100 node (có MSE val bé nhất) để sử dụng cho những mô hình sau."
   ]
  },
  {
   "cell_type": "markdown",
   "metadata": {},
   "source": [
    "Kế tiếp, ta sẽ thay đổi giá trị learning rate để xem việc học hội tụ thế nào, ta sẽ giữ nguyên wd, 2 tầng ẩn và mỗi tầng có 100 node."
   ]
  },
  {
   "cell_type": "code",
   "execution_count": 43,
   "metadata": {},
   "outputs": [
    {
     "name": "stdout",
     "output_type": "stream",
     "text": [
      "0.0001 1.08571380772 1.22958392215\n",
      "0.001 0.784032777261 1.06416773095\n",
      "0.01 0.72623176377 1.08764102396\n",
      "0.1 1.0948976717 1.23994997835\n"
     ]
    }
   ],
   "source": [
    "list_learning_rate = [0.0001, 0.001, 0.01, 0.1]\n",
    "MSE_train_NNRs = [] \n",
    "MSE_val_NNRs = []\n",
    "\n",
    "for learning_rate in list_learning_rate:\n",
    "    MSE_train_NNR, MSE_val_NNR = train_NNR((100, 100), learning_rate, 0.0001)\n",
    "    print learning_rate, MSE_train_NNR, MSE_val_NNR\n",
    "    MSE_train_NNRs.append(MSE_train_NNR)\n",
    "    MSE_val_NNRs.append(MSE_val_NNR)"
   ]
  },
  {
   "cell_type": "markdown",
   "metadata": {},
   "source": [
    "## Minh họa kết quả thay đổi learning rate"
   ]
  },
  {
   "cell_type": "code",
   "execution_count": 44,
   "metadata": {},
   "outputs": [
    {
     "data": {
      "text/plain": [
       "<matplotlib.legend.Legend at 0x11a77c88>"
      ]
     },
     "execution_count": 44,
     "metadata": {},
     "output_type": "execute_result"
    },
    {
     "data": {
      "image/png": "[encoded data removed]",
      "text/plain": [
       "<matplotlib.figure.Figure at 0xff633c8>"
      ]
     },
     "metadata": {},
     "output_type": "display_data"
    }
   ],
   "source": [
    "plt.figure(figsize=(14,10))\n",
    "plt.subplot(2, 3, 2)\n",
    "plt.plot(list_learning_rate, MSE_train_NNRs, 'r', label='MSE_train_NNR')\n",
    "plt.plot(list_learning_rate, MSE_val_NNRs,'r--', label='MSE_val_NNR')\n",
    "plt.xlabel('learning rate')\n",
    "plt.ylabel('MSE')\n",
    "plt.legend(loc='best')"
   ]
  },
  {
   "cell_type": "markdown",
   "metadata": {},
   "source": [
    "Ta thấy ở đây, khi learning rate thấp và cao thì độ lỗi MSE sẽ cao, và chỉ có learning rate vừa phải sẽ giúp cho quá trình học hội tụ nhanh hơn. Khi đó, ta sẽ chọn learning rate có độ lỗi MSE trên tập val thấp nhất là learning rate = 0.001, vì vậy chúng ta sẽ sử dụng learning rate này cho mô hình kế tiếp."
   ]
  },
  {
   "cell_type": "code",
   "execution_count": 45,
   "metadata": {
    "scrolled": true
   },
   "outputs": [
    {
     "name": "stdout",
     "output_type": "stream",
     "text": [
      "0.0001 0.784032777261 1.06416773095\n",
      "\n",
      "0.001 0.784046067204 1.06417038318\n",
      "\n",
      "0.01 0.784179226599 1.06419718011\n",
      "\n",
      "0.1 0.785537267733 1.06449269192\n",
      "\n",
      "1.0 0.785208877859 1.05585583603\n",
      "\n",
      "10.0 1.08253859696 1.22798436045\n",
      "\n",
      "100.0 1.09514842093 1.24076499725\n",
      "\n",
      "1000.0 1.09476535709 1.23945599162\n",
      "\n",
      "10000.0 1.09443547457 1.23710661008\n",
      "\n"
     ]
    }
   ],
   "source": [
    "list_alpha = [0.0001, 0.001, 0.01, 0.1, 1.0, 10.0, 100.0, 1000.0, 10000.0]\n",
    "MSE_train_NNRs = [] \n",
    "MSE_val_NNRs = []\n",
    "\n",
    "for alpha in list_alpha:\n",
    "    MSE_train_NNR, MSE_val_NNR = train_NNR((100, 100), 0.001, alpha)\n",
    "    print alpha, MSE_train_NNR, MSE_val_NNR\n",
    "    print\n",
    "    MSE_train_NNRs.append(MSE_train_NNR)\n",
    "    MSE_val_NNRs.append(MSE_val_NNR)"
   ]
  },
  {
   "cell_type": "markdown",
   "metadata": {},
   "source": [
    "## Minh họa kết quả thay đổi weight decay"
   ]
  },
  {
   "cell_type": "code",
   "execution_count": 46,
   "metadata": {},
   "outputs": [
    {
     "data": {
      "text/plain": [
       "<matplotlib.legend.Legend at 0x117d59b0>"
      ]
     },
     "execution_count": 46,
     "metadata": {},
     "output_type": "execute_result"
    },
    {
     "data": {
      "image/png": "[encoded data removed]",
      "text/plain": [
       "<matplotlib.figure.Figure at 0xf002550>"
      ]
     },
     "metadata": {},
     "output_type": "display_data"
    }
   ],
   "source": [
    "plt.figure(figsize=(14,10))\n",
    "plt.subplot(2, 3, 2)\n",
    "\n",
    "plt.plot(list_alpha, MSE_val_NNRs,'r--', label='MSE_val_NNR')\n",
    "plt.plot(list_alpha, MSE_train_NNRs, 'r', label='MSE_train_NNR')\n",
    "\n",
    "plt.xlabel('alpha weight decay')\n",
    "plt.ylabel('MSE')\n",
    "plt.legend(loc='best')"
   ]
  },
  {
   "cell_type": "markdown",
   "metadata": {},
   "source": [
    "Qua kết quả trên, ta có thể thấy, khi weight decay ở khoảng nhỏ và lớn sẽ cho độ lỗi MSE lớn. Chỉ có ở weight decay 1.0 thì kết quả nhận được thấp hơn các kết quả khác. Cuối cùng, ta sẽ chọn alpha = 1.0 để tiếp tục train mô hình NNR cuối cùng để kiểm tra."
   ]
  },
  {
   "cell_type": "markdown",
   "metadata": {},
   "source": [
    "## Kiểm tra độ lỗi đối với mô hình Linear Regression"
   ]
  },
  {
   "cell_type": "code",
   "execution_count": 47,
   "metadata": {},
   "outputs": [
    {
     "name": "stdout",
     "output_type": "stream",
     "text": [
      "0.730892130645 1.12880638526\n"
     ]
    }
   ],
   "source": [
    "MSE_train_LinReg, MSE_val_LinReg = train_LinReg()\n",
    "print MSE_train_LinReg, MSE_val_LinReg"
   ]
  },
  {
   "cell_type": "markdown",
   "metadata": {},
   "source": [
    "# 3. Xây dựng tập test"
   ]
  },
  {
   "cell_type": "code",
   "execution_count": 48,
   "metadata": {
    "collapsed": true
   },
   "outputs": [],
   "source": [
    "test_input_df = test_df.iloc[:, 0:]\n",
    "test_output_df = test_df.imdb_score"
   ]
  },
  {
   "cell_type": "markdown",
   "metadata": {},
   "source": [
    "## 3.1. Xây dựng test_X"
   ]
  },
  {
   "cell_type": "code",
   "execution_count": 49,
   "metadata": {},
   "outputs": [
    {
     "data": {
      "text/plain": [
       "(1086L, 12L)"
      ]
     },
     "execution_count": 49,
     "metadata": {},
     "output_type": "execute_result"
    }
   ],
   "source": [
    "test_X = process_new_input_df(test_input_df, dropped_cols, mean_mode_dict, X_mean, X_std)\n",
    "test_X.shape"
   ]
  },
  {
   "cell_type": "code",
   "execution_count": 50,
   "metadata": {},
   "outputs": [
    {
     "name": "stdout",
     "output_type": "stream",
     "text": [
      "(1086L, 37L)\n"
     ]
    }
   ],
   "source": [
    "test_X = process_genres(test_X)\n",
    "print test_X.shape"
   ]
  },
  {
   "cell_type": "markdown",
   "metadata": {},
   "source": [
    "## 3.2. Xây dựng test_Y"
   ]
  },
  {
   "cell_type": "code",
   "execution_count": 51,
   "metadata": {},
   "outputs": [
    {
     "data": {
      "text/plain": [
       "(1086L, 1L)"
      ]
     },
     "execution_count": 51,
     "metadata": {},
     "output_type": "execute_result"
    }
   ],
   "source": [
    "test_output_df.fillna(train_output_df.mean(), inplace=True)\n",
    "test_Y = test_output_df.values.reshape(-1, 1)\n",
    "test_Y.shape"
   ]
  },
  {
   "cell_type": "markdown",
   "metadata": {},
   "source": [
    "## Tiến hành test mô hình:"
   ]
  },
  {
   "cell_type": "markdown",
   "metadata": {},
   "source": [
    "Đầu tiên, ta sẽ tiến hành đo MSE trên tập test đối với mô hình Support Vector Regressor"
   ]
  },
  {
   "cell_type": "markdown",
   "metadata": {},
   "source": [
    "Ở đây, ta sẽ chọn mô hình có MSE trên tập val bé nhất, đó chính là mô hình có epsilon = 0.1, C = 1 và gamma = 0.1"
   ]
  },
  {
   "cell_type": "code",
   "execution_count": 52,
   "metadata": {},
   "outputs": [
    {
     "name": "stdout",
     "output_type": "stream",
     "text": [
      "MSE tren tap test = 1.35789735702\n"
     ]
    }
   ],
   "source": [
    "test_SVR = svm.SVR(C=1, kernel='rbf', gamma=0.1)\n",
    "test_SVR.fit(train_X, train_Y)\n",
    "MSE_test = mean_squared_error(test_Y, test_SVR.predict(test_X))\n",
    "print \"MSE tren tap test = \" + str(MSE_test)"
   ]
  },
  {
   "cell_type": "code",
   "execution_count": 53,
   "metadata": {
    "scrolled": true
   },
   "outputs": [
    {
     "name": "stdout",
     "output_type": "stream",
     "text": [
      "[[ 5.4]\n",
      " [ 5.9]\n",
      " [ 4.7]\n",
      " [ 3.2]\n",
      " [ 5.5]\n",
      " [ 8.3]\n",
      " [ 7.6]\n",
      " [ 6.1]\n",
      " [ 7.1]\n",
      " [ 6.6]]\n",
      "[ 5.21436631  6.03287093  5.34802052  5.79720225  5.62703416  6.88447778\n",
      "  6.57964641  5.50825256  6.16878862  5.61962317]\n"
     ]
    }
   ],
   "source": [
    "print test_Y[:10]\n",
    "print test_SVR.predict(test_X)[:10]"
   ]
  },
  {
   "cell_type": "markdown",
   "metadata": {},
   "source": [
    "Sau đó, ta cũng thử test với mô hình Lỉnear Regression"
   ]
  },
  {
   "cell_type": "code",
   "execution_count": 54,
   "metadata": {},
   "outputs": [
    {
     "name": "stdout",
     "output_type": "stream",
     "text": [
      "1.39477959888\n"
     ]
    }
   ],
   "source": [
    "test_LinReg = LinearRegression()\n",
    "test_LinReg.fit(train_X, train_Y)\n",
    "MSE_test = mean_squared_error(test_Y, test_LinReg.predict(test_X))\n",
    "print str(MSE_test)"
   ]
  },
  {
   "cell_type": "code",
   "execution_count": 55,
   "metadata": {},
   "outputs": [
    {
     "name": "stdout",
     "output_type": "stream",
     "text": [
      "[[ 5.4]\n",
      " [ 5.9]\n",
      " [ 4.7]\n",
      " [ 3.2]\n",
      " [ 5.5]\n",
      " [ 8.3]\n",
      " [ 7.6]\n",
      " [ 6.1]\n",
      " [ 7.1]\n",
      " [ 6.6]]\n",
      "[[ 5.64208691]\n",
      " [ 5.90368085]\n",
      " [ 5.57242445]\n",
      " [ 5.52761426]\n",
      " [ 5.95302437]\n",
      " [ 6.70573301]\n",
      " [ 6.18456015]\n",
      " [ 5.94269738]\n",
      " [ 6.09711465]\n",
      " [ 5.80616595]]\n"
     ]
    }
   ],
   "source": [
    "print test_Y[:10]\n",
    "print test_LinReg.predict(test_X)[:10]"
   ]
  },
  {
   "cell_type": "markdown",
   "metadata": {},
   "source": [
    "Cuối cùng, ta sẽ sử dụng NNR với 2 tầng ẩn, mỗi tầng có 100 node, learning rate = 0.001, alpha = 1.0."
   ]
  },
  {
   "cell_type": "code",
   "execution_count": 56,
   "metadata": {},
   "outputs": [
    {
     "name": "stdout",
     "output_type": "stream",
     "text": [
      "Do loi cua NNR tren tap test = 1.34389986504\n"
     ]
    }
   ],
   "source": [
    "test_NNR = MLPRegressor(activation='logistic', solver='sgd', random_state=0, hidden_layer_sizes=(100, 100), learning_rate_init=0.001, max_iter=10000, alpha=1.0)\n",
    "    \n",
    "test_NNR.fit(test_X, test_Y)\n",
    "\n",
    "print \"Do loi cua NNR tren tap test = \" + str(mean_squared_error(test_Y, test_NNR.predict(test_X)))"
   ]
  },
  {
   "cell_type": "code",
   "execution_count": 60,
   "metadata": {},
   "outputs": [
    {
     "name": "stdout",
     "output_type": "stream",
     "text": [
      "[[ 5.4]\n",
      " [ 5.9]\n",
      " [ 4.7]\n",
      " [ 3.2]\n",
      " [ 5.5]\n",
      " [ 8.3]\n",
      " [ 7.6]\n",
      " [ 6.1]\n",
      " [ 7.1]\n",
      " [ 6.6]]\n",
      "[ 6.189507    6.24971177  6.1816676   6.18571588  6.38888552  6.32992835\n",
      "  6.32082217  6.32864783  6.21886899  6.18289381]\n"
     ]
    }
   ],
   "source": [
    "print test_Y[0:10]\n",
    "print test_NNR.predict(test_X)[0:10]"
   ]
  }
 ],
 "metadata": {
  "kernelspec": {
   "display_name": "Python 3",
   "language": "python",
   "name": "python3"
  },
  "language_info": {
   "codemirror_mode": {
    "name": "ipython",
    "version": 3
   },
   "file_extension": ".py",
   "mimetype": "text/x-python",
   "name": "python",
   "nbconvert_exporter": "python",
   "pygments_lexer": "ipython3",
   "version": "3.7.0"
  }
 },
 "nbformat": 4,
 "nbformat_minor": 2
}
